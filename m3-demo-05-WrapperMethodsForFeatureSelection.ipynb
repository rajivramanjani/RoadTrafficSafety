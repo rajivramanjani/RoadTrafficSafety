{
  "cells": [
    {
      "metadata": {},
      "cell_type": "markdown",
      "source": "### Installing mlxtend library"
    },
    {
      "metadata": {
        "trusted": false
      },
      "cell_type": "code",
      "source": "!pip install mlxtend",
      "execution_count": 1,
      "outputs": [
        {
          "name": "stdout",
          "output_type": "stream",
          "text": "Requirement already satisfied: mlxtend in /anaconda3/lib/python3.6/site-packages (0.17.0)\nRequirement already satisfied: scikit-learn>=0.20.3 in /anaconda3/lib/python3.6/site-packages (from mlxtend) (0.21.3)\nRequirement already satisfied: pandas>=0.24.2 in /anaconda3/lib/python3.6/site-packages (from mlxtend) (0.25.1)\nRequirement already satisfied: joblib>=0.13.2 in /anaconda3/lib/python3.6/site-packages (from mlxtend) (0.13.2)\nRequirement already satisfied: scipy>=1.2.1 in /anaconda3/lib/python3.6/site-packages (from mlxtend) (1.3.1)\nRequirement already satisfied: numpy>=1.16.2 in /anaconda3/lib/python3.6/site-packages (from mlxtend) (1.16.4)\nRequirement already satisfied: setuptools in /anaconda3/lib/python3.6/site-packages (from mlxtend) (41.0.1)\nRequirement already satisfied: matplotlib>=3.0.0 in /anaconda3/lib/python3.6/site-packages (from mlxtend) (3.1.0)\nRequirement already satisfied: pytz>=2017.2 in /anaconda3/lib/python3.6/site-packages (from pandas>=0.24.2->mlxtend) (2017.3)\nRequirement already satisfied: python-dateutil>=2.6.1 in /anaconda3/lib/python3.6/site-packages (from pandas>=0.24.2->mlxtend) (2.6.1)\nRequirement already satisfied: cycler>=0.10 in /anaconda3/lib/python3.6/site-packages (from matplotlib>=3.0.0->mlxtend) (0.10.0)\nRequirement already satisfied: kiwisolver>=1.0.1 in /anaconda3/lib/python3.6/site-packages (from matplotlib>=3.0.0->mlxtend) (1.1.0)\nRequirement already satisfied: pyparsing!=2.0.4,!=2.1.2,!=2.1.6,>=2.0.1 in /anaconda3/lib/python3.6/site-packages (from matplotlib>=3.0.0->mlxtend) (2.2.0)\nRequirement already satisfied: six>=1.5 in /anaconda3/lib/python3.6/site-packages (from python-dateutil>=2.6.1->pandas>=0.24.2->mlxtend) (1.11.0)\n"
        }
      ]
    },
    {
      "metadata": {},
      "cell_type": "markdown",
      "source": "### Importing libraries"
    },
    {
      "metadata": {
        "trusted": false
      },
      "cell_type": "code",
      "source": "import pandas as pd\nimport numpy as np",
      "execution_count": 2,
      "outputs": []
    },
    {
      "metadata": {
        "trusted": false
      },
      "cell_type": "code",
      "source": "diabetes_data = pd.read_csv('datasets/diabetes.csv')\n\ndiabetes_data.head(10)",
      "execution_count": 3,
      "outputs": [
        {
          "data": {
            "text/html": "<div>\n<style scoped>\n    .dataframe tbody tr th:only-of-type {\n        vertical-align: middle;\n    }\n\n    .dataframe tbody tr th {\n        vertical-align: top;\n    }\n\n    .dataframe thead th {\n        text-align: right;\n    }\n</style>\n<table border=\"1\" class=\"dataframe\">\n  <thead>\n    <tr style=\"text-align: right;\">\n      <th></th>\n      <th>Pregnancies</th>\n      <th>Glucose</th>\n      <th>BloodPressure</th>\n      <th>SkinThickness</th>\n      <th>Insulin</th>\n      <th>BMI</th>\n      <th>DiabetesPedigreeFunction</th>\n      <th>Age</th>\n      <th>Outcome</th>\n    </tr>\n  </thead>\n  <tbody>\n    <tr>\n      <td>0</td>\n      <td>6</td>\n      <td>148</td>\n      <td>72</td>\n      <td>35</td>\n      <td>0</td>\n      <td>33.6</td>\n      <td>0.627</td>\n      <td>50</td>\n      <td>1</td>\n    </tr>\n    <tr>\n      <td>1</td>\n      <td>1</td>\n      <td>85</td>\n      <td>66</td>\n      <td>29</td>\n      <td>0</td>\n      <td>26.6</td>\n      <td>0.351</td>\n      <td>31</td>\n      <td>0</td>\n    </tr>\n    <tr>\n      <td>2</td>\n      <td>8</td>\n      <td>183</td>\n      <td>64</td>\n      <td>0</td>\n      <td>0</td>\n      <td>23.3</td>\n      <td>0.672</td>\n      <td>32</td>\n      <td>1</td>\n    </tr>\n    <tr>\n      <td>3</td>\n      <td>1</td>\n      <td>89</td>\n      <td>66</td>\n      <td>23</td>\n      <td>94</td>\n      <td>28.1</td>\n      <td>0.167</td>\n      <td>21</td>\n      <td>0</td>\n    </tr>\n    <tr>\n      <td>4</td>\n      <td>0</td>\n      <td>137</td>\n      <td>40</td>\n      <td>35</td>\n      <td>168</td>\n      <td>43.1</td>\n      <td>2.288</td>\n      <td>33</td>\n      <td>1</td>\n    </tr>\n    <tr>\n      <td>5</td>\n      <td>5</td>\n      <td>116</td>\n      <td>74</td>\n      <td>0</td>\n      <td>0</td>\n      <td>25.6</td>\n      <td>0.201</td>\n      <td>30</td>\n      <td>0</td>\n    </tr>\n    <tr>\n      <td>6</td>\n      <td>3</td>\n      <td>78</td>\n      <td>50</td>\n      <td>32</td>\n      <td>88</td>\n      <td>31.0</td>\n      <td>0.248</td>\n      <td>26</td>\n      <td>1</td>\n    </tr>\n    <tr>\n      <td>7</td>\n      <td>10</td>\n      <td>115</td>\n      <td>0</td>\n      <td>0</td>\n      <td>0</td>\n      <td>35.3</td>\n      <td>0.134</td>\n      <td>29</td>\n      <td>0</td>\n    </tr>\n    <tr>\n      <td>8</td>\n      <td>2</td>\n      <td>197</td>\n      <td>70</td>\n      <td>45</td>\n      <td>543</td>\n      <td>30.5</td>\n      <td>0.158</td>\n      <td>53</td>\n      <td>1</td>\n    </tr>\n    <tr>\n      <td>9</td>\n      <td>8</td>\n      <td>125</td>\n      <td>96</td>\n      <td>0</td>\n      <td>0</td>\n      <td>0.0</td>\n      <td>0.232</td>\n      <td>54</td>\n      <td>1</td>\n    </tr>\n  </tbody>\n</table>\n</div>",
            "text/plain": "   Pregnancies  Glucose  BloodPressure  SkinThickness  Insulin   BMI  \\\n0            6      148             72             35        0  33.6   \n1            1       85             66             29        0  26.6   \n2            8      183             64              0        0  23.3   \n3            1       89             66             23       94  28.1   \n4            0      137             40             35      168  43.1   \n5            5      116             74              0        0  25.6   \n6            3       78             50             32       88  31.0   \n7           10      115              0              0        0  35.3   \n8            2      197             70             45      543  30.5   \n9            8      125             96              0        0   0.0   \n\n   DiabetesPedigreeFunction  Age  Outcome  \n0                     0.627   50        1  \n1                     0.351   31        0  \n2                     0.672   32        1  \n3                     0.167   21        0  \n4                     2.288   33        1  \n5                     0.201   30        0  \n6                     0.248   26        1  \n7                     0.134   29        0  \n8                     0.158   53        1  \n9                     0.232   54        1  "
          },
          "execution_count": 3,
          "metadata": {},
          "output_type": "execute_result"
        }
      ]
    },
    {
      "metadata": {
        "trusted": false
      },
      "cell_type": "code",
      "source": "X = diabetes_data.drop('Outcome', axis=1)\n\nY = diabetes_data['Outcome']",
      "execution_count": 4,
      "outputs": []
    },
    {
      "metadata": {},
      "cell_type": "markdown",
      "source": "### Recursive Feature Elimination\nhttps://scikit-learn.org/stable/modules/generated/sklearn.feature_selection.RFE.html"
    },
    {
      "metadata": {
        "trusted": false
      },
      "cell_type": "code",
      "source": "from sklearn.feature_selection import RFE\nfrom sklearn.linear_model import LogisticRegression",
      "execution_count": 5,
      "outputs": []
    },
    {
      "metadata": {
        "trusted": false
      },
      "cell_type": "code",
      "source": "model = LogisticRegression(solver='liblinear')\n\nrfe = RFE(model, n_features_to_select=4)",
      "execution_count": 6,
      "outputs": []
    },
    {
      "metadata": {
        "trusted": false
      },
      "cell_type": "code",
      "source": "fit = rfe.fit(X, Y)",
      "execution_count": 7,
      "outputs": []
    },
    {
      "metadata": {
        "trusted": false
      },
      "cell_type": "code",
      "source": "print(\"Num Features: \", fit.n_features_)\nprint(\"Selected Features: \", fit.support_)\nprint(\"Feature Ranking: \", fit.ranking_)",
      "execution_count": 8,
      "outputs": [
        {
          "name": "stdout",
          "output_type": "stream",
          "text": "Num Features:  4\nSelected Features:  [ True  True False False False  True  True False]\nFeature Ranking:  [1 1 2 4 5 1 1 3]\n"
        }
      ]
    },
    {
      "metadata": {
        "trusted": false
      },
      "cell_type": "code",
      "source": "feature_rank = pd.DataFrame({'columns': X.columns, \n                             'ranking': fit.ranking_, \n                             'selected': fit.support_})\n\nfeature_rank",
      "execution_count": 9,
      "outputs": [
        {
          "data": {
            "text/html": "<div>\n<style scoped>\n    .dataframe tbody tr th:only-of-type {\n        vertical-align: middle;\n    }\n\n    .dataframe tbody tr th {\n        vertical-align: top;\n    }\n\n    .dataframe thead th {\n        text-align: right;\n    }\n</style>\n<table border=\"1\" class=\"dataframe\">\n  <thead>\n    <tr style=\"text-align: right;\">\n      <th></th>\n      <th>columns</th>\n      <th>ranking</th>\n      <th>selected</th>\n    </tr>\n  </thead>\n  <tbody>\n    <tr>\n      <td>0</td>\n      <td>Pregnancies</td>\n      <td>1</td>\n      <td>True</td>\n    </tr>\n    <tr>\n      <td>1</td>\n      <td>Glucose</td>\n      <td>1</td>\n      <td>True</td>\n    </tr>\n    <tr>\n      <td>2</td>\n      <td>BloodPressure</td>\n      <td>2</td>\n      <td>False</td>\n    </tr>\n    <tr>\n      <td>3</td>\n      <td>SkinThickness</td>\n      <td>4</td>\n      <td>False</td>\n    </tr>\n    <tr>\n      <td>4</td>\n      <td>Insulin</td>\n      <td>5</td>\n      <td>False</td>\n    </tr>\n    <tr>\n      <td>5</td>\n      <td>BMI</td>\n      <td>1</td>\n      <td>True</td>\n    </tr>\n    <tr>\n      <td>6</td>\n      <td>DiabetesPedigreeFunction</td>\n      <td>1</td>\n      <td>True</td>\n    </tr>\n    <tr>\n      <td>7</td>\n      <td>Age</td>\n      <td>3</td>\n      <td>False</td>\n    </tr>\n  </tbody>\n</table>\n</div>",
            "text/plain": "                    columns  ranking  selected\n0               Pregnancies        1      True\n1                   Glucose        1      True\n2             BloodPressure        2     False\n3             SkinThickness        4     False\n4                   Insulin        5     False\n5                       BMI        1      True\n6  DiabetesPedigreeFunction        1      True\n7                       Age        3     False"
          },
          "execution_count": 9,
          "metadata": {},
          "output_type": "execute_result"
        }
      ]
    },
    {
      "metadata": {
        "trusted": false
      },
      "cell_type": "code",
      "source": "recursive_feature_names = feature_rank.loc[feature_rank['selected'] == True]\n\nrecursive_feature_names",
      "execution_count": 10,
      "outputs": [
        {
          "data": {
            "text/html": "<div>\n<style scoped>\n    .dataframe tbody tr th:only-of-type {\n        vertical-align: middle;\n    }\n\n    .dataframe tbody tr th {\n        vertical-align: top;\n    }\n\n    .dataframe thead th {\n        text-align: right;\n    }\n</style>\n<table border=\"1\" class=\"dataframe\">\n  <thead>\n    <tr style=\"text-align: right;\">\n      <th></th>\n      <th>columns</th>\n      <th>ranking</th>\n      <th>selected</th>\n    </tr>\n  </thead>\n  <tbody>\n    <tr>\n      <td>0</td>\n      <td>Pregnancies</td>\n      <td>1</td>\n      <td>True</td>\n    </tr>\n    <tr>\n      <td>1</td>\n      <td>Glucose</td>\n      <td>1</td>\n      <td>True</td>\n    </tr>\n    <tr>\n      <td>5</td>\n      <td>BMI</td>\n      <td>1</td>\n      <td>True</td>\n    </tr>\n    <tr>\n      <td>6</td>\n      <td>DiabetesPedigreeFunction</td>\n      <td>1</td>\n      <td>True</td>\n    </tr>\n  </tbody>\n</table>\n</div>",
            "text/plain": "                    columns  ranking  selected\n0               Pregnancies        1      True\n1                   Glucose        1      True\n5                       BMI        1      True\n6  DiabetesPedigreeFunction        1      True"
          },
          "execution_count": 10,
          "metadata": {},
          "output_type": "execute_result"
        }
      ]
    },
    {
      "metadata": {
        "trusted": false
      },
      "cell_type": "code",
      "source": "X[recursive_feature_names['columns'].values].head()",
      "execution_count": 11,
      "outputs": [
        {
          "data": {
            "text/html": "<div>\n<style scoped>\n    .dataframe tbody tr th:only-of-type {\n        vertical-align: middle;\n    }\n\n    .dataframe tbody tr th {\n        vertical-align: top;\n    }\n\n    .dataframe thead th {\n        text-align: right;\n    }\n</style>\n<table border=\"1\" class=\"dataframe\">\n  <thead>\n    <tr style=\"text-align: right;\">\n      <th></th>\n      <th>Pregnancies</th>\n      <th>Glucose</th>\n      <th>BMI</th>\n      <th>DiabetesPedigreeFunction</th>\n    </tr>\n  </thead>\n  <tbody>\n    <tr>\n      <td>0</td>\n      <td>6</td>\n      <td>148</td>\n      <td>33.6</td>\n      <td>0.627</td>\n    </tr>\n    <tr>\n      <td>1</td>\n      <td>1</td>\n      <td>85</td>\n      <td>26.6</td>\n      <td>0.351</td>\n    </tr>\n    <tr>\n      <td>2</td>\n      <td>8</td>\n      <td>183</td>\n      <td>23.3</td>\n      <td>0.672</td>\n    </tr>\n    <tr>\n      <td>3</td>\n      <td>1</td>\n      <td>89</td>\n      <td>28.1</td>\n      <td>0.167</td>\n    </tr>\n    <tr>\n      <td>4</td>\n      <td>0</td>\n      <td>137</td>\n      <td>43.1</td>\n      <td>2.288</td>\n    </tr>\n  </tbody>\n</table>\n</div>",
            "text/plain": "   Pregnancies  Glucose   BMI  DiabetesPedigreeFunction\n0            6      148  33.6                     0.627\n1            1       85  26.6                     0.351\n2            8      183  23.3                     0.672\n3            1       89  28.1                     0.167\n4            0      137  43.1                     2.288"
          },
          "execution_count": 11,
          "metadata": {},
          "output_type": "execute_result"
        }
      ]
    },
    {
      "metadata": {
        "trusted": false
      },
      "cell_type": "code",
      "source": "recursive_features = X[recursive_feature_names['columns'].values]",
      "execution_count": 12,
      "outputs": []
    },
    {
      "metadata": {},
      "cell_type": "markdown",
      "source": "### Forward Elimination"
    },
    {
      "metadata": {},
      "cell_type": "markdown",
      "source": "#### SequentialFeatureSelector\nhttp://rasbt.github.io/mlxtend/user_guide/feature_selection/SequentialFeatureSelector/"
    },
    {
      "metadata": {
        "trusted": false
      },
      "cell_type": "code",
      "source": "from mlxtend.feature_selection import SequentialFeatureSelector\nfrom sklearn.ensemble import RandomForestClassifier",
      "execution_count": 13,
      "outputs": []
    },
    {
      "metadata": {
        "trusted": false
      },
      "cell_type": "code",
      "source": "feature_selector = SequentialFeatureSelector(RandomForestClassifier(n_estimators=10),\n                                             k_features=4,\n                                             forward=True,\n                                             scoring='accuracy',\n                                             cv=4)\n\nfeatures = feature_selector.fit(np.array(X), Y)",
      "execution_count": 14,
      "outputs": []
    },
    {
      "metadata": {
        "trusted": false
      },
      "cell_type": "code",
      "source": "forward_elimination_feature_names = list(X.columns[list(features.k_feature_idx_)])\n\nforward_elimination_feature_names",
      "execution_count": 15,
      "outputs": [
        {
          "data": {
            "text/plain": "['Pregnancies', 'Glucose', 'BloodPressure', 'BMI']"
          },
          "execution_count": 15,
          "metadata": {},
          "output_type": "execute_result"
        }
      ]
    },
    {
      "metadata": {
        "trusted": false
      },
      "cell_type": "code",
      "source": "forward_elimination_features = X[forward_elimination_feature_names]",
      "execution_count": 16,
      "outputs": []
    },
    {
      "metadata": {},
      "cell_type": "markdown",
      "source": "### Backward Elimination "
    },
    {
      "metadata": {
        "trusted": false
      },
      "cell_type": "code",
      "source": "feature_selector = SequentialFeatureSelector(RandomForestClassifier(n_estimators=10),\n                                             k_features=4,\n                                             forward=False,\n                                             scoring='accuracy',\n                                             cv=4)\n\nfeatures = feature_selector.fit(np.array(X), Y)",
      "execution_count": 17,
      "outputs": []
    },
    {
      "metadata": {
        "trusted": false
      },
      "cell_type": "code",
      "source": "back_elimination_feature_names = list(X.columns[list(features.k_feature_idx_)])\n\nback_elimination_feature_names ",
      "execution_count": 18,
      "outputs": [
        {
          "data": {
            "text/plain": "['Pregnancies', 'Glucose', 'BloodPressure', 'BMI']"
          },
          "execution_count": 18,
          "metadata": {},
          "output_type": "execute_result"
        }
      ]
    },
    {
      "metadata": {
        "trusted": false
      },
      "cell_type": "code",
      "source": "back_elimination_features = X[back_elimination_feature_names]",
      "execution_count": 19,
      "outputs": []
    },
    {
      "metadata": {
        "trusted": false
      },
      "cell_type": "code",
      "source": "from sklearn.linear_model import LogisticRegression\nfrom sklearn.model_selection import  train_test_split\nfrom sklearn.metrics import accuracy_score",
      "execution_count": 20,
      "outputs": []
    },
    {
      "metadata": {
        "trusted": false
      },
      "cell_type": "code",
      "source": "def build_model(X, Y, test_frac):\n    \n    x_train, x_test, y_train, y_test = train_test_split(X, Y, test_size=test_frac)\n    \n    model = LogisticRegression(solver='liblinear').fit(x_train, y_train)\n    y_pred = model.predict(x_test)\n    \n    print(\"Test_score : \", accuracy_score(y_test, y_pred))",
      "execution_count": 21,
      "outputs": []
    },
    {
      "metadata": {
        "trusted": false
      },
      "cell_type": "code",
      "source": "build_model(X, Y, 0.2)",
      "execution_count": 25,
      "outputs": [
        {
          "name": "stdout",
          "output_type": "stream",
          "text": "Test_score :  0.7727272727272727\n"
        }
      ]
    },
    {
      "metadata": {
        "trusted": false
      },
      "cell_type": "code",
      "source": "build_model(recursive_features, Y, 0.2)",
      "execution_count": 22,
      "outputs": [
        {
          "name": "stdout",
          "output_type": "stream",
          "text": "Test_score :  0.7337662337662337\n"
        }
      ]
    },
    {
      "metadata": {
        "trusted": false
      },
      "cell_type": "code",
      "source": "build_model(forward_elimination_features, Y, 0.2)",
      "execution_count": 23,
      "outputs": [
        {
          "name": "stdout",
          "output_type": "stream",
          "text": "Test_score :  0.7662337662337663\n"
        }
      ]
    },
    {
      "metadata": {
        "trusted": false
      },
      "cell_type": "code",
      "source": "build_model(back_elimination_features, Y, 0.2)",
      "execution_count": 24,
      "outputs": [
        {
          "name": "stdout",
          "output_type": "stream",
          "text": "Test_score :  0.7727272727272727\n"
        }
      ]
    },
    {
      "metadata": {
        "trusted": false
      },
      "cell_type": "code",
      "source": "",
      "execution_count": null,
      "outputs": []
    },
    {
      "metadata": {
        "trusted": false
      },
      "cell_type": "code",
      "source": "",
      "execution_count": null,
      "outputs": []
    },
    {
      "metadata": {
        "trusted": false
      },
      "cell_type": "code",
      "source": "",
      "execution_count": null,
      "outputs": []
    },
    {
      "metadata": {
        "trusted": false
      },
      "cell_type": "code",
      "source": "",
      "execution_count": null,
      "outputs": []
    },
    {
      "metadata": {
        "trusted": false
      },
      "cell_type": "code",
      "source": "",
      "execution_count": null,
      "outputs": []
    },
    {
      "metadata": {
        "trusted": false
      },
      "cell_type": "code",
      "source": "",
      "execution_count": null,
      "outputs": []
    },
    {
      "metadata": {
        "trusted": false
      },
      "cell_type": "code",
      "source": "",
      "execution_count": null,
      "outputs": []
    },
    {
      "metadata": {
        "trusted": false
      },
      "cell_type": "code",
      "source": "",
      "execution_count": null,
      "outputs": []
    },
    {
      "metadata": {
        "trusted": false
      },
      "cell_type": "code",
      "source": "",
      "execution_count": null,
      "outputs": []
    },
    {
      "metadata": {
        "trusted": false
      },
      "cell_type": "code",
      "source": "",
      "execution_count": null,
      "outputs": []
    },
    {
      "metadata": {
        "trusted": false
      },
      "cell_type": "code",
      "source": "",
      "execution_count": null,
      "outputs": []
    },
    {
      "metadata": {
        "trusted": false
      },
      "cell_type": "code",
      "source": "",
      "execution_count": null,
      "outputs": []
    },
    {
      "metadata": {
        "trusted": false
      },
      "cell_type": "code",
      "source": "",
      "execution_count": null,
      "outputs": []
    },
    {
      "metadata": {
        "trusted": false
      },
      "cell_type": "code",
      "source": "",
      "execution_count": null,
      "outputs": []
    },
    {
      "metadata": {
        "trusted": false
      },
      "cell_type": "code",
      "source": "",
      "execution_count": null,
      "outputs": []
    },
    {
      "metadata": {
        "trusted": false
      },
      "cell_type": "code",
      "source": "",
      "execution_count": null,
      "outputs": []
    },
    {
      "metadata": {
        "trusted": false
      },
      "cell_type": "code",
      "source": "",
      "execution_count": null,
      "outputs": []
    }
  ],
  "metadata": {
    "kernelspec": {
      "name": "python3",
      "display_name": "Python 3",
      "language": "python"
    },
    "language_info": {
      "mimetype": "text/x-python",
      "nbconvert_exporter": "python",
      "name": "python",
      "pygments_lexer": "ipython3",
      "version": "3.5.4",
      "file_extension": ".py",
      "codemirror_mode": {
        "version": 3,
        "name": "ipython"
      }
    }
  },
  "nbformat": 4,
  "nbformat_minor": 2
}