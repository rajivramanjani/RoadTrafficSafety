{
  "cells": [
    {
      "metadata": {},
      "cell_type": "markdown",
      "source": "### Importing libraries"
    },
    {
      "metadata": {
        "trusted": false
      },
      "cell_type": "code",
      "source": "import pandas as pd\nimport numpy as np",
      "execution_count": 1,
      "outputs": []
    },
    {
      "metadata": {
        "trusted": false
      },
      "cell_type": "code",
      "source": "automobile = pd.read_csv('datasets/cars_processed.csv')\n\nautomobile.head(10)",
      "execution_count": 2,
      "outputs": [
        {
          "data": {
            "text/html": "<div>\n<style scoped>\n    .dataframe tbody tr th:only-of-type {\n        vertical-align: middle;\n    }\n\n    .dataframe tbody tr th {\n        vertical-align: top;\n    }\n\n    .dataframe thead th {\n        text-align: right;\n    }\n</style>\n<table border=\"1\" class=\"dataframe\">\n  <thead>\n    <tr style=\"text-align: right;\">\n      <th></th>\n      <th>MPG</th>\n      <th>Cylinders</th>\n      <th>Displacement</th>\n      <th>Horsepower</th>\n      <th>Weight</th>\n      <th>Acceleration</th>\n      <th>Origin</th>\n      <th>Age</th>\n    </tr>\n  </thead>\n  <tbody>\n    <tr>\n      <td>0</td>\n      <td>18.000000</td>\n      <td>8</td>\n      <td>307.0</td>\n      <td>130</td>\n      <td>3504</td>\n      <td>12.0</td>\n      <td>US</td>\n      <td>49</td>\n    </tr>\n    <tr>\n      <td>1</td>\n      <td>16.000000</td>\n      <td>8</td>\n      <td>304.0</td>\n      <td>150</td>\n      <td>3433</td>\n      <td>12.0</td>\n      <td>US</td>\n      <td>49</td>\n    </tr>\n    <tr>\n      <td>2</td>\n      <td>17.000000</td>\n      <td>8</td>\n      <td>302.0</td>\n      <td>140</td>\n      <td>3449</td>\n      <td>10.5</td>\n      <td>US</td>\n      <td>49</td>\n    </tr>\n    <tr>\n      <td>3</td>\n      <td>14.000000</td>\n      <td>8</td>\n      <td>454.0</td>\n      <td>220</td>\n      <td>4354</td>\n      <td>9.0</td>\n      <td>US</td>\n      <td>49</td>\n    </tr>\n    <tr>\n      <td>4</td>\n      <td>23.551429</td>\n      <td>8</td>\n      <td>440.0</td>\n      <td>215</td>\n      <td>4312</td>\n      <td>8.5</td>\n      <td>US</td>\n      <td>49</td>\n    </tr>\n    <tr>\n      <td>5</td>\n      <td>14.000000</td>\n      <td>8</td>\n      <td>455.0</td>\n      <td>225</td>\n      <td>4425</td>\n      <td>8.5</td>\n      <td>US</td>\n      <td>49</td>\n    </tr>\n    <tr>\n      <td>6</td>\n      <td>15.000000</td>\n      <td>8</td>\n      <td>390.0</td>\n      <td>190</td>\n      <td>3850</td>\n      <td>8.5</td>\n      <td>US</td>\n      <td>49</td>\n    </tr>\n    <tr>\n      <td>7</td>\n      <td>15.000000</td>\n      <td>8</td>\n      <td>383.0</td>\n      <td>170</td>\n      <td>3563</td>\n      <td>10.0</td>\n      <td>US</td>\n      <td>49</td>\n    </tr>\n    <tr>\n      <td>8</td>\n      <td>14.000000</td>\n      <td>5</td>\n      <td>340.0</td>\n      <td>160</td>\n      <td>3609</td>\n      <td>8.0</td>\n      <td>US</td>\n      <td>49</td>\n    </tr>\n    <tr>\n      <td>9</td>\n      <td>23.551429</td>\n      <td>8</td>\n      <td>400.0</td>\n      <td>150</td>\n      <td>3761</td>\n      <td>9.5</td>\n      <td>US</td>\n      <td>49</td>\n    </tr>\n  </tbody>\n</table>\n</div>",
            "text/plain": "         MPG  Cylinders  Displacement  Horsepower  Weight  Acceleration  \\\n0  18.000000          8         307.0         130    3504          12.0   \n1  16.000000          8         304.0         150    3433          12.0   \n2  17.000000          8         302.0         140    3449          10.5   \n3  14.000000          8         454.0         220    4354           9.0   \n4  23.551429          8         440.0         215    4312           8.5   \n5  14.000000          8         455.0         225    4425           8.5   \n6  15.000000          8         390.0         190    3850           8.5   \n7  15.000000          8         383.0         170    3563          10.0   \n8  14.000000          5         340.0         160    3609           8.0   \n9  23.551429          8         400.0         150    3761           9.5   \n\n  Origin  Age  \n0     US   49  \n1     US   49  \n2     US   49  \n3     US   49  \n4     US   49  \n5     US   49  \n6     US   49  \n7     US   49  \n8     US   49  \n9     US   49  "
          },
          "execution_count": 2,
          "metadata": {},
          "output_type": "execute_result"
        }
      ]
    },
    {
      "metadata": {
        "trusted": false
      },
      "cell_type": "code",
      "source": "X = automobile.drop(['MPG', 'Origin'], axis=1)\n\nY = automobile['MPG']",
      "execution_count": 3,
      "outputs": []
    },
    {
      "metadata": {},
      "cell_type": "markdown",
      "source": "### Regularization Technique\n#### Lasso\nhttps://scikit-learn.org/stable/modules/generated/sklearn.linear_model.Lasso.html"
    },
    {
      "metadata": {
        "trusted": false
      },
      "cell_type": "code",
      "source": "from sklearn.linear_model import Lasso",
      "execution_count": 4,
      "outputs": []
    },
    {
      "metadata": {
        "trusted": false
      },
      "cell_type": "code",
      "source": "lasso = Lasso(alpha=0.8)\nlasso.fit(X, Y)",
      "execution_count": 5,
      "outputs": [
        {
          "data": {
            "text/plain": "Lasso(alpha=0.8, copy_X=True, fit_intercept=True, max_iter=1000,\n      normalize=False, positive=False, precompute=False, random_state=None,\n      selection='cyclic', tol=0.0001, warm_start=False)"
          },
          "execution_count": 5,
          "metadata": {},
          "output_type": "execute_result"
        }
      ]
    },
    {
      "metadata": {
        "trusted": false
      },
      "cell_type": "code",
      "source": "predictors = X.columns\n\ncoef = pd.Series(lasso.coef_, predictors).sort_values()\nprint(coef)",
      "execution_count": 6,
      "outputs": [
        {
          "name": "stdout",
          "output_type": "stream",
          "text": "Age            -0.673784\nWeight         -0.006603\nHorsepower     -0.004511\nCylinders      -0.000000\nAcceleration    0.000000\nDisplacement    0.001366\ndtype: float64\n"
        }
      ]
    },
    {
      "metadata": {
        "trusted": false
      },
      "cell_type": "code",
      "source": "lasso_features = ['Age', 'Weight']\n\nX[lasso_features].head()",
      "execution_count": 7,
      "outputs": [
        {
          "data": {
            "text/html": "<div>\n<style scoped>\n    .dataframe tbody tr th:only-of-type {\n        vertical-align: middle;\n    }\n\n    .dataframe tbody tr th {\n        vertical-align: top;\n    }\n\n    .dataframe thead th {\n        text-align: right;\n    }\n</style>\n<table border=\"1\" class=\"dataframe\">\n  <thead>\n    <tr style=\"text-align: right;\">\n      <th></th>\n      <th>Age</th>\n      <th>Weight</th>\n    </tr>\n  </thead>\n  <tbody>\n    <tr>\n      <td>0</td>\n      <td>49</td>\n      <td>3504</td>\n    </tr>\n    <tr>\n      <td>1</td>\n      <td>49</td>\n      <td>3433</td>\n    </tr>\n    <tr>\n      <td>2</td>\n      <td>49</td>\n      <td>3449</td>\n    </tr>\n    <tr>\n      <td>3</td>\n      <td>49</td>\n      <td>4354</td>\n    </tr>\n    <tr>\n      <td>4</td>\n      <td>49</td>\n      <td>4312</td>\n    </tr>\n  </tbody>\n</table>\n</div>",
            "text/plain": "   Age  Weight\n0   49    3504\n1   49    3433\n2   49    3449\n3   49    4354\n4   49    4312"
          },
          "execution_count": 7,
          "metadata": {},
          "output_type": "execute_result"
        }
      ]
    },
    {
      "metadata": {},
      "cell_type": "markdown",
      "source": "#### Decision Tree\nhttps://scikit-learn.org/stable/modules/generated/sklearn.tree.DecisionTreeRegressor.html#sklearn.tree.DecisionTreeRegressor"
    },
    {
      "metadata": {
        "trusted": false
      },
      "cell_type": "code",
      "source": "from sklearn.tree import DecisionTreeRegressor",
      "execution_count": 8,
      "outputs": []
    },
    {
      "metadata": {
        "trusted": false
      },
      "cell_type": "code",
      "source": "decision_tree = DecisionTreeRegressor(max_depth=4)\ndecision_tree.fit(X,Y)",
      "execution_count": 9,
      "outputs": [
        {
          "data": {
            "text/plain": "DecisionTreeRegressor(criterion='mse', max_depth=4, max_features=None,\n                      max_leaf_nodes=None, min_impurity_decrease=0.0,\n                      min_impurity_split=None, min_samples_leaf=1,\n                      min_samples_split=2, min_weight_fraction_leaf=0.0,\n                      presort=False, random_state=None, splitter='best')"
          },
          "execution_count": 9,
          "metadata": {},
          "output_type": "execute_result"
        }
      ]
    },
    {
      "metadata": {
        "trusted": false
      },
      "cell_type": "code",
      "source": "predictors = X.columns\n\ncoef = pd.Series(decision_tree.feature_importances_, predictors).sort_values()\nprint(coef)",
      "execution_count": 10,
      "outputs": [
        {
          "name": "stdout",
          "output_type": "stream",
          "text": "Cylinders       0.000000\nAcceleration    0.006328\nWeight          0.058285\nAge             0.112716\nHorsepower      0.177081\nDisplacement    0.645590\ndtype: float64\n"
        }
      ]
    },
    {
      "metadata": {
        "trusted": false
      },
      "cell_type": "code",
      "source": "decision_tree_features = ['Displacement', 'Horsepower']\n\nX[decision_tree_features].head()",
      "execution_count": 11,
      "outputs": [
        {
          "data": {
            "text/html": "<div>\n<style scoped>\n    .dataframe tbody tr th:only-of-type {\n        vertical-align: middle;\n    }\n\n    .dataframe tbody tr th {\n        vertical-align: top;\n    }\n\n    .dataframe thead th {\n        text-align: right;\n    }\n</style>\n<table border=\"1\" class=\"dataframe\">\n  <thead>\n    <tr style=\"text-align: right;\">\n      <th></th>\n      <th>Displacement</th>\n      <th>Horsepower</th>\n    </tr>\n  </thead>\n  <tbody>\n    <tr>\n      <td>0</td>\n      <td>307.0</td>\n      <td>130</td>\n    </tr>\n    <tr>\n      <td>1</td>\n      <td>304.0</td>\n      <td>150</td>\n    </tr>\n    <tr>\n      <td>2</td>\n      <td>302.0</td>\n      <td>140</td>\n    </tr>\n    <tr>\n      <td>3</td>\n      <td>454.0</td>\n      <td>220</td>\n    </tr>\n    <tr>\n      <td>4</td>\n      <td>440.0</td>\n      <td>215</td>\n    </tr>\n  </tbody>\n</table>\n</div>",
            "text/plain": "   Displacement  Horsepower\n0         307.0         130\n1         304.0         150\n2         302.0         140\n3         454.0         220\n4         440.0         215"
          },
          "execution_count": 11,
          "metadata": {},
          "output_type": "execute_result"
        }
      ]
    },
    {
      "metadata": {
        "trusted": false
      },
      "cell_type": "code",
      "source": "from sklearn.linear_model import LinearRegression\nfrom sklearn.model_selection import train_test_split\nfrom sklearn.metrics import r2_score",
      "execution_count": 12,
      "outputs": []
    },
    {
      "metadata": {
        "trusted": false
      },
      "cell_type": "code",
      "source": "def build_model(X, Y, test_frac):\n    \n    x_train, x_test, y_train, y_test = train_test_split(X, Y, test_size=test_frac)\n    \n    model = LinearRegression().fit(x_train, y_train)\n    y_pred = model.predict(x_test)\n    \n    print(\"Test_score : \", r2_score(y_test, y_pred))",
      "execution_count": 13,
      "outputs": []
    },
    {
      "metadata": {
        "trusted": false
      },
      "cell_type": "code",
      "source": "build_model(X[lasso_features], Y, 0.2)",
      "execution_count": 14,
      "outputs": [
        {
          "name": "stdout",
          "output_type": "stream",
          "text": "Test_score :  0.7566710129840005\n"
        }
      ]
    },
    {
      "metadata": {
        "trusted": false
      },
      "cell_type": "code",
      "source": "build_model(X[decision_tree_features], Y, 0.2)",
      "execution_count": 15,
      "outputs": [
        {
          "name": "stdout",
          "output_type": "stream",
          "text": "Test_score :  0.643899658822721\n"
        }
      ]
    },
    {
      "metadata": {
        "trusted": false
      },
      "cell_type": "code",
      "source": "",
      "execution_count": null,
      "outputs": []
    },
    {
      "metadata": {
        "trusted": false
      },
      "cell_type": "code",
      "source": "",
      "execution_count": null,
      "outputs": []
    },
    {
      "metadata": {
        "trusted": false
      },
      "cell_type": "code",
      "source": "",
      "execution_count": null,
      "outputs": []
    },
    {
      "metadata": {
        "trusted": false
      },
      "cell_type": "code",
      "source": "",
      "execution_count": null,
      "outputs": []
    },
    {
      "metadata": {
        "trusted": false
      },
      "cell_type": "code",
      "source": "",
      "execution_count": null,
      "outputs": []
    },
    {
      "metadata": {
        "trusted": false
      },
      "cell_type": "code",
      "source": "",
      "execution_count": null,
      "outputs": []
    },
    {
      "metadata": {
        "trusted": false
      },
      "cell_type": "code",
      "source": "",
      "execution_count": null,
      "outputs": []
    },
    {
      "metadata": {
        "trusted": false
      },
      "cell_type": "code",
      "source": "",
      "execution_count": null,
      "outputs": []
    },
    {
      "metadata": {
        "trusted": false
      },
      "cell_type": "code",
      "source": "",
      "execution_count": null,
      "outputs": []
    },
    {
      "metadata": {
        "trusted": false
      },
      "cell_type": "code",
      "source": "",
      "execution_count": null,
      "outputs": []
    },
    {
      "metadata": {
        "trusted": false
      },
      "cell_type": "code",
      "source": "",
      "execution_count": null,
      "outputs": []
    },
    {
      "metadata": {
        "trusted": false
      },
      "cell_type": "code",
      "source": "",
      "execution_count": null,
      "outputs": []
    },
    {
      "metadata": {
        "trusted": false
      },
      "cell_type": "code",
      "source": "",
      "execution_count": null,
      "outputs": []
    },
    {
      "metadata": {
        "trusted": false
      },
      "cell_type": "code",
      "source": "",
      "execution_count": null,
      "outputs": []
    },
    {
      "metadata": {
        "trusted": false
      },
      "cell_type": "code",
      "source": "",
      "execution_count": null,
      "outputs": []
    },
    {
      "metadata": {
        "trusted": false
      },
      "cell_type": "code",
      "source": "",
      "execution_count": null,
      "outputs": []
    },
    {
      "metadata": {
        "trusted": false
      },
      "cell_type": "code",
      "source": "",
      "execution_count": null,
      "outputs": []
    }
  ],
  "metadata": {
    "kernelspec": {
      "name": "python3",
      "display_name": "Python 3",
      "language": "python"
    },
    "language_info": {
      "mimetype": "text/x-python",
      "nbconvert_exporter": "python",
      "name": "python",
      "pygments_lexer": "ipython3",
      "version": "3.5.4",
      "file_extension": ".py",
      "codemirror_mode": {
        "version": 3,
        "name": "ipython"
      }
    }
  },
  "nbformat": 4,
  "nbformat_minor": 2
}