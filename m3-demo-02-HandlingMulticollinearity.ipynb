{
  "cells": [
    {
      "metadata": {},
      "cell_type": "markdown",
      "source": "### Importing libraries"
    },
    {
      "metadata": {
        "trusted": false
      },
      "cell_type": "code",
      "source": "import pandas as pd",
      "execution_count": 1,
      "outputs": []
    },
    {
      "metadata": {},
      "cell_type": "markdown",
      "source": "### Loading dataset"
    },
    {
      "metadata": {
        "trusted": false
      },
      "cell_type": "code",
      "source": "automobile = pd.read_csv('datasets/cars_processed.csv')\n\nautomobile.head(5)",
      "execution_count": 2,
      "outputs": [
        {
          "data": {
            "text/html": "<div>\n<style scoped>\n    .dataframe tbody tr th:only-of-type {\n        vertical-align: middle;\n    }\n\n    .dataframe tbody tr th {\n        vertical-align: top;\n    }\n\n    .dataframe thead th {\n        text-align: right;\n    }\n</style>\n<table border=\"1\" class=\"dataframe\">\n  <thead>\n    <tr style=\"text-align: right;\">\n      <th></th>\n      <th>MPG</th>\n      <th>Cylinders</th>\n      <th>Displacement</th>\n      <th>Horsepower</th>\n      <th>Weight</th>\n      <th>Acceleration</th>\n      <th>Origin</th>\n      <th>Age</th>\n    </tr>\n  </thead>\n  <tbody>\n    <tr>\n      <td>0</td>\n      <td>18.000000</td>\n      <td>8</td>\n      <td>307.0</td>\n      <td>130</td>\n      <td>3504</td>\n      <td>12.0</td>\n      <td>US</td>\n      <td>49</td>\n    </tr>\n    <tr>\n      <td>1</td>\n      <td>16.000000</td>\n      <td>8</td>\n      <td>304.0</td>\n      <td>150</td>\n      <td>3433</td>\n      <td>12.0</td>\n      <td>US</td>\n      <td>49</td>\n    </tr>\n    <tr>\n      <td>2</td>\n      <td>17.000000</td>\n      <td>8</td>\n      <td>302.0</td>\n      <td>140</td>\n      <td>3449</td>\n      <td>10.5</td>\n      <td>US</td>\n      <td>49</td>\n    </tr>\n    <tr>\n      <td>3</td>\n      <td>14.000000</td>\n      <td>8</td>\n      <td>454.0</td>\n      <td>220</td>\n      <td>4354</td>\n      <td>9.0</td>\n      <td>US</td>\n      <td>49</td>\n    </tr>\n    <tr>\n      <td>4</td>\n      <td>23.551429</td>\n      <td>8</td>\n      <td>440.0</td>\n      <td>215</td>\n      <td>4312</td>\n      <td>8.5</td>\n      <td>US</td>\n      <td>49</td>\n    </tr>\n  </tbody>\n</table>\n</div>",
            "text/plain": "         MPG  Cylinders  Displacement  Horsepower  Weight  Acceleration  \\\n0  18.000000          8         307.0         130    3504          12.0   \n1  16.000000          8         304.0         150    3433          12.0   \n2  17.000000          8         302.0         140    3449          10.5   \n3  14.000000          8         454.0         220    4354           9.0   \n4  23.551429          8         440.0         215    4312           8.5   \n\n  Origin  Age  \n0     US   49  \n1     US   49  \n2     US   49  \n3     US   49  \n4     US   49  "
          },
          "execution_count": 2,
          "metadata": {},
          "output_type": "execute_result"
        }
      ]
    },
    {
      "metadata": {
        "trusted": false
      },
      "cell_type": "code",
      "source": "automobile.describe()",
      "execution_count": 3,
      "outputs": [
        {
          "data": {
            "text/html": "<div>\n<style scoped>\n    .dataframe tbody tr th:only-of-type {\n        vertical-align: middle;\n    }\n\n    .dataframe tbody tr th {\n        vertical-align: top;\n    }\n\n    .dataframe thead th {\n        text-align: right;\n    }\n</style>\n<table border=\"1\" class=\"dataframe\">\n  <thead>\n    <tr style=\"text-align: right;\">\n      <th></th>\n      <th>MPG</th>\n      <th>Cylinders</th>\n      <th>Displacement</th>\n      <th>Horsepower</th>\n      <th>Weight</th>\n      <th>Acceleration</th>\n      <th>Age</th>\n    </tr>\n  </thead>\n  <tbody>\n    <tr>\n      <td>count</td>\n      <td>387.000000</td>\n      <td>387.000000</td>\n      <td>387.000000</td>\n      <td>387.000000</td>\n      <td>387.000000</td>\n      <td>387.000000</td>\n      <td>387.000000</td>\n    </tr>\n    <tr>\n      <td>mean</td>\n      <td>23.672514</td>\n      <td>5.410853</td>\n      <td>192.184755</td>\n      <td>103.645995</td>\n      <td>2965.387597</td>\n      <td>15.573643</td>\n      <td>42.917313</td>\n    </tr>\n    <tr>\n      <td>std</td>\n      <td>7.736579</td>\n      <td>1.667795</td>\n      <td>103.703706</td>\n      <td>38.128651</td>\n      <td>846.332848</td>\n      <td>2.746260</td>\n      <td>3.668715</td>\n    </tr>\n    <tr>\n      <td>min</td>\n      <td>9.000000</td>\n      <td>3.000000</td>\n      <td>68.000000</td>\n      <td>46.000000</td>\n      <td>1613.000000</td>\n      <td>8.000000</td>\n      <td>37.000000</td>\n    </tr>\n    <tr>\n      <td>25%</td>\n      <td>17.600000</td>\n      <td>4.000000</td>\n      <td>102.500000</td>\n      <td>75.000000</td>\n      <td>2221.500000</td>\n      <td>13.900000</td>\n      <td>40.000000</td>\n    </tr>\n    <tr>\n      <td>50%</td>\n      <td>23.200000</td>\n      <td>4.000000</td>\n      <td>146.000000</td>\n      <td>92.000000</td>\n      <td>2790.000000</td>\n      <td>15.500000</td>\n      <td>43.000000</td>\n    </tr>\n    <tr>\n      <td>75%</td>\n      <td>29.000000</td>\n      <td>6.000000</td>\n      <td>260.000000</td>\n      <td>121.000000</td>\n      <td>3589.500000</td>\n      <td>17.050000</td>\n      <td>46.000000</td>\n    </tr>\n    <tr>\n      <td>max</td>\n      <td>46.600000</td>\n      <td>8.000000</td>\n      <td>455.000000</td>\n      <td>230.000000</td>\n      <td>5140.000000</td>\n      <td>24.800000</td>\n      <td>49.000000</td>\n    </tr>\n  </tbody>\n</table>\n</div>",
            "text/plain": "              MPG   Cylinders  Displacement  Horsepower       Weight  \\\ncount  387.000000  387.000000    387.000000  387.000000   387.000000   \nmean    23.672514    5.410853    192.184755  103.645995  2965.387597   \nstd      7.736579    1.667795    103.703706   38.128651   846.332848   \nmin      9.000000    3.000000     68.000000   46.000000  1613.000000   \n25%     17.600000    4.000000    102.500000   75.000000  2221.500000   \n50%     23.200000    4.000000    146.000000   92.000000  2790.000000   \n75%     29.000000    6.000000    260.000000  121.000000  3589.500000   \nmax     46.600000    8.000000    455.000000  230.000000  5140.000000   \n\n       Acceleration         Age  \ncount    387.000000  387.000000  \nmean      15.573643   42.917313  \nstd        2.746260    3.668715  \nmin        8.000000   37.000000  \n25%       13.900000   40.000000  \n50%       15.500000   43.000000  \n75%       17.050000   46.000000  \nmax       24.800000   49.000000  "
          },
          "execution_count": 3,
          "metadata": {},
          "output_type": "execute_result"
        }
      ]
    },
    {
      "metadata": {},
      "cell_type": "markdown",
      "source": "#### Preprocessing the features"
    },
    {
      "metadata": {
        "trusted": false
      },
      "cell_type": "code",
      "source": "from sklearn import preprocessing\n\nautomobile[['Cylinders']] = preprocessing.scale(automobile[['Cylinders']].astype('float64'))\nautomobile[['Displacement']] = preprocessing.scale(automobile[['Displacement']].astype('float64'))\nautomobile[['Horsepower']] = preprocessing.scale(automobile[['Horsepower']].astype('float64'))\nautomobile[['Weight']] = preprocessing.scale(automobile[['Weight']].astype('float64'))\nautomobile[['Acceleration']] = preprocessing.scale(automobile[['Acceleration']].astype('float64'))\nautomobile[['Age']] = preprocessing.scale(automobile[['Age']].astype('float64'))",
      "execution_count": 4,
      "outputs": []
    },
    {
      "metadata": {
        "trusted": false
      },
      "cell_type": "code",
      "source": "automobile.describe()",
      "execution_count": 5,
      "outputs": [
        {
          "data": {
            "text/html": "<div>\n<style scoped>\n    .dataframe tbody tr th:only-of-type {\n        vertical-align: middle;\n    }\n\n    .dataframe tbody tr th {\n        vertical-align: top;\n    }\n\n    .dataframe thead th {\n        text-align: right;\n    }\n</style>\n<table border=\"1\" class=\"dataframe\">\n  <thead>\n    <tr style=\"text-align: right;\">\n      <th></th>\n      <th>MPG</th>\n      <th>Cylinders</th>\n      <th>Displacement</th>\n      <th>Horsepower</th>\n      <th>Weight</th>\n      <th>Acceleration</th>\n      <th>Age</th>\n    </tr>\n  </thead>\n  <tbody>\n    <tr>\n      <td>count</td>\n      <td>387.000000</td>\n      <td>3.870000e+02</td>\n      <td>3.870000e+02</td>\n      <td>3.870000e+02</td>\n      <td>3.870000e+02</td>\n      <td>3.870000e+02</td>\n      <td>3.870000e+02</td>\n    </tr>\n    <tr>\n      <td>mean</td>\n      <td>23.672514</td>\n      <td>1.095879e-16</td>\n      <td>8.778508e-17</td>\n      <td>-1.061454e-17</td>\n      <td>-2.008155e-18</td>\n      <td>2.662240e-16</td>\n      <td>5.817913e-16</td>\n    </tr>\n    <tr>\n      <td>std</td>\n      <td>7.736579</td>\n      <td>1.001294e+00</td>\n      <td>1.001294e+00</td>\n      <td>1.001294e+00</td>\n      <td>1.001294e+00</td>\n      <td>1.001294e+00</td>\n      <td>1.001294e+00</td>\n    </tr>\n    <tr>\n      <td>min</td>\n      <td>9.000000</td>\n      <td>-1.447404e+00</td>\n      <td>-1.199046e+00</td>\n      <td>-1.513838e+00</td>\n      <td>-1.600007e+00</td>\n      <td>-2.761372e+00</td>\n      <td>-1.615000e+00</td>\n    </tr>\n    <tr>\n      <td>25%</td>\n      <td>17.600000</td>\n      <td>-8.470340e-01</td>\n      <td>-8.659368e-01</td>\n      <td>-7.522710e-01</td>\n      <td>-8.800918e-01</td>\n      <td>-6.102152e-01</td>\n      <td>-7.962160e-01</td>\n    </tr>\n    <tr>\n      <td>50%</td>\n      <td>23.200000</td>\n      <td>-8.470340e-01</td>\n      <td>-4.459295e-01</td>\n      <td>-3.058349e-01</td>\n      <td>-2.075007e-01</td>\n      <td>-2.685060e-02</td>\n      <td>2.256768e-02</td>\n    </tr>\n    <tr>\n      <td>75%</td>\n      <td>29.000000</td>\n      <td>3.537065e-01</td>\n      <td>6.547792e-01</td>\n      <td>4.557326e-01</td>\n      <td>7.383860e-01</td>\n      <td>5.382839e-01</td>\n      <td>8.413513e-01</td>\n    </tr>\n    <tr>\n      <td>max</td>\n      <td>46.600000</td>\n      <td>1.554447e+00</td>\n      <td>2.537570e+00</td>\n      <td>3.318176e+00</td>\n      <td>2.572779e+00</td>\n      <td>3.363956e+00</td>\n      <td>1.660135e+00</td>\n    </tr>\n  </tbody>\n</table>\n</div>",
            "text/plain": "              MPG     Cylinders  Displacement    Horsepower        Weight  \\\ncount  387.000000  3.870000e+02  3.870000e+02  3.870000e+02  3.870000e+02   \nmean    23.672514  1.095879e-16  8.778508e-17 -1.061454e-17 -2.008155e-18   \nstd      7.736579  1.001294e+00  1.001294e+00  1.001294e+00  1.001294e+00   \nmin      9.000000 -1.447404e+00 -1.199046e+00 -1.513838e+00 -1.600007e+00   \n25%     17.600000 -8.470340e-01 -8.659368e-01 -7.522710e-01 -8.800918e-01   \n50%     23.200000 -8.470340e-01 -4.459295e-01 -3.058349e-01 -2.075007e-01   \n75%     29.000000  3.537065e-01  6.547792e-01  4.557326e-01  7.383860e-01   \nmax     46.600000  1.554447e+00  2.537570e+00  3.318176e+00  2.572779e+00   \n\n       Acceleration           Age  \ncount  3.870000e+02  3.870000e+02  \nmean   2.662240e-16  5.817913e-16  \nstd    1.001294e+00  1.001294e+00  \nmin   -2.761372e+00 -1.615000e+00  \n25%   -6.102152e-01 -7.962160e-01  \n50%   -2.685060e-02  2.256768e-02  \n75%    5.382839e-01  8.413513e-01  \nmax    3.363956e+00  1.660135e+00  "
          },
          "execution_count": 5,
          "metadata": {},
          "output_type": "execute_result"
        }
      ]
    },
    {
      "metadata": {
        "trusted": false
      },
      "cell_type": "code",
      "source": "automobile.shape",
      "execution_count": 6,
      "outputs": [
        {
          "data": {
            "text/plain": "(387, 8)"
          },
          "execution_count": 6,
          "metadata": {},
          "output_type": "execute_result"
        }
      ]
    },
    {
      "metadata": {},
      "cell_type": "markdown",
      "source": "### Building a regression model"
    },
    {
      "metadata": {
        "trusted": false
      },
      "cell_type": "code",
      "source": "from sklearn.model_selection import train_test_split",
      "execution_count": 7,
      "outputs": []
    },
    {
      "metadata": {
        "trusted": false
      },
      "cell_type": "code",
      "source": "X = automobile.drop(['MPG', 'Origin'], axis=1)\nY = automobile['MPG']\n\nx_train, x_test, y_train, y_test = train_test_split(X, Y, test_size=0.2)",
      "execution_count": 8,
      "outputs": []
    },
    {
      "metadata": {
        "trusted": false
      },
      "cell_type": "code",
      "source": "from sklearn.linear_model import LinearRegression\n\nlinear_model = LinearRegression(normalize=True).fit(x_train, y_train)",
      "execution_count": 9,
      "outputs": []
    },
    {
      "metadata": {
        "trusted": false
      },
      "cell_type": "code",
      "source": "print(\"Training_score : \" , linear_model.score(x_train, y_train))",
      "execution_count": 10,
      "outputs": [
        {
          "name": "stdout",
          "output_type": "stream",
          "text": "Training_score :  0.7930592969178385\n"
        }
      ]
    },
    {
      "metadata": {
        "trusted": false
      },
      "cell_type": "code",
      "source": "y_pred = linear_model.predict(x_test)",
      "execution_count": 11,
      "outputs": []
    },
    {
      "metadata": {
        "trusted": false
      },
      "cell_type": "code",
      "source": "from sklearn.metrics import r2_score\n\nprint(\"Testing_score : \", r2_score(y_test, y_pred))",
      "execution_count": 12,
      "outputs": [
        {
          "name": "stdout",
          "output_type": "stream",
          "text": "Testing_score :  0.7556855845195039\n"
        }
      ]
    },
    {
      "metadata": {},
      "cell_type": "markdown",
      "source": "### Calculating the adjusted r_2 value"
    },
    {
      "metadata": {
        "trusted": false
      },
      "cell_type": "code",
      "source": "def adjusted_r2(r_square, labels, features):\n    \n    adj_r_square = 1 - ((1 - r_square) * (len(labels) - 1)) / (len(labels) - features.shape[1] - 1)\n    \n    return adj_r_square",
      "execution_count": 13,
      "outputs": []
    },
    {
      "metadata": {
        "trusted": false
      },
      "cell_type": "code",
      "source": "print(\"Adjusted_r2_score : \", adjusted_r2(r2_score(y_test, y_pred), y_test, x_test))",
      "execution_count": 14,
      "outputs": [
        {
          "name": "stdout",
          "output_type": "stream",
          "text": "Adjusted_r2_score :  0.7350392958873493\n"
        }
      ]
    },
    {
      "metadata": {},
      "cell_type": "markdown",
      "source": "### Showing correlation matrix for multicollinearity detection\nHigher the correlation value means features are highly correlated"
    },
    {
      "metadata": {
        "trusted": false
      },
      "cell_type": "code",
      "source": "features_corr = X.corr()\n\nfeatures_corr",
      "execution_count": 15,
      "outputs": [
        {
          "data": {
            "text/html": "<div>\n<style scoped>\n    .dataframe tbody tr th:only-of-type {\n        vertical-align: middle;\n    }\n\n    .dataframe tbody tr th {\n        vertical-align: top;\n    }\n\n    .dataframe thead th {\n        text-align: right;\n    }\n</style>\n<table border=\"1\" class=\"dataframe\">\n  <thead>\n    <tr style=\"text-align: right;\">\n      <th></th>\n      <th>Cylinders</th>\n      <th>Displacement</th>\n      <th>Horsepower</th>\n      <th>Weight</th>\n      <th>Acceleration</th>\n      <th>Age</th>\n    </tr>\n  </thead>\n  <tbody>\n    <tr>\n      <td>Cylinders</td>\n      <td>1.000000</td>\n      <td>0.922633</td>\n      <td>0.811466</td>\n      <td>0.873029</td>\n      <td>-0.458161</td>\n      <td>0.321850</td>\n    </tr>\n    <tr>\n      <td>Displacement</td>\n      <td>0.922633</td>\n      <td>1.000000</td>\n      <td>0.894199</td>\n      <td>0.932822</td>\n      <td>-0.526901</td>\n      <td>0.357047</td>\n    </tr>\n    <tr>\n      <td>Horsepower</td>\n      <td>0.811466</td>\n      <td>0.894199</td>\n      <td>1.000000</td>\n      <td>0.863388</td>\n      <td>-0.670920</td>\n      <td>0.404458</td>\n    </tr>\n    <tr>\n      <td>Weight</td>\n      <td>0.873029</td>\n      <td>0.932822</td>\n      <td>0.863388</td>\n      <td>1.000000</td>\n      <td>-0.397181</td>\n      <td>0.299049</td>\n    </tr>\n    <tr>\n      <td>Acceleration</td>\n      <td>-0.458161</td>\n      <td>-0.526901</td>\n      <td>-0.670920</td>\n      <td>-0.397181</td>\n      <td>1.000000</td>\n      <td>-0.292705</td>\n    </tr>\n    <tr>\n      <td>Age</td>\n      <td>0.321850</td>\n      <td>0.357047</td>\n      <td>0.404458</td>\n      <td>0.299049</td>\n      <td>-0.292705</td>\n      <td>1.000000</td>\n    </tr>\n  </tbody>\n</table>\n</div>",
            "text/plain": "              Cylinders  Displacement  Horsepower    Weight  Acceleration  \\\nCylinders      1.000000      0.922633    0.811466  0.873029     -0.458161   \nDisplacement   0.922633      1.000000    0.894199  0.932822     -0.526901   \nHorsepower     0.811466      0.894199    1.000000  0.863388     -0.670920   \nWeight         0.873029      0.932822    0.863388  1.000000     -0.397181   \nAcceleration  -0.458161     -0.526901   -0.670920 -0.397181      1.000000   \nAge            0.321850      0.357047    0.404458  0.299049     -0.292705   \n\n                   Age  \nCylinders     0.321850  \nDisplacement  0.357047  \nHorsepower    0.404458  \nWeight        0.299049  \nAcceleration -0.292705  \nAge           1.000000  "
          },
          "execution_count": 15,
          "metadata": {},
          "output_type": "execute_result"
        }
      ]
    },
    {
      "metadata": {},
      "cell_type": "markdown",
      "source": "#### Checking for correlation value greater than 0.75\nHere we can figure out that cylinders, displacement, horsepower and weight are correlated"
    },
    {
      "metadata": {
        "trusted": false
      },
      "cell_type": "code",
      "source": "abs(features_corr) > 0.8",
      "execution_count": 16,
      "outputs": [
        {
          "data": {
            "text/html": "<div>\n<style scoped>\n    .dataframe tbody tr th:only-of-type {\n        vertical-align: middle;\n    }\n\n    .dataframe tbody tr th {\n        vertical-align: top;\n    }\n\n    .dataframe thead th {\n        text-align: right;\n    }\n</style>\n<table border=\"1\" class=\"dataframe\">\n  <thead>\n    <tr style=\"text-align: right;\">\n      <th></th>\n      <th>Cylinders</th>\n      <th>Displacement</th>\n      <th>Horsepower</th>\n      <th>Weight</th>\n      <th>Acceleration</th>\n      <th>Age</th>\n    </tr>\n  </thead>\n  <tbody>\n    <tr>\n      <td>Cylinders</td>\n      <td>True</td>\n      <td>True</td>\n      <td>True</td>\n      <td>True</td>\n      <td>False</td>\n      <td>False</td>\n    </tr>\n    <tr>\n      <td>Displacement</td>\n      <td>True</td>\n      <td>True</td>\n      <td>True</td>\n      <td>True</td>\n      <td>False</td>\n      <td>False</td>\n    </tr>\n    <tr>\n      <td>Horsepower</td>\n      <td>True</td>\n      <td>True</td>\n      <td>True</td>\n      <td>True</td>\n      <td>False</td>\n      <td>False</td>\n    </tr>\n    <tr>\n      <td>Weight</td>\n      <td>True</td>\n      <td>True</td>\n      <td>True</td>\n      <td>True</td>\n      <td>False</td>\n      <td>False</td>\n    </tr>\n    <tr>\n      <td>Acceleration</td>\n      <td>False</td>\n      <td>False</td>\n      <td>False</td>\n      <td>False</td>\n      <td>True</td>\n      <td>False</td>\n    </tr>\n    <tr>\n      <td>Age</td>\n      <td>False</td>\n      <td>False</td>\n      <td>False</td>\n      <td>False</td>\n      <td>False</td>\n      <td>True</td>\n    </tr>\n  </tbody>\n</table>\n</div>",
            "text/plain": "              Cylinders  Displacement  Horsepower  Weight  Acceleration    Age\nCylinders          True          True        True    True         False  False\nDisplacement       True          True        True    True         False  False\nHorsepower         True          True        True    True         False  False\nWeight             True          True        True    True         False  False\nAcceleration      False         False       False   False          True  False\nAge               False         False       False   False         False   True"
          },
          "execution_count": 16,
          "metadata": {},
          "output_type": "execute_result"
        }
      ]
    },
    {
      "metadata": {},
      "cell_type": "markdown",
      "source": "#### So we are dropping 'cylinders', 'displacement', 'weight' column"
    },
    {
      "metadata": {
        "trusted": false
      },
      "cell_type": "code",
      "source": "trimmed_features_df = X.drop(['Cylinders', 'Displacement', 'Weight'], axis=1)",
      "execution_count": 17,
      "outputs": []
    },
    {
      "metadata": {},
      "cell_type": "markdown",
      "source": "#### After dropping the columns we can see now correlation value is less than 0.75 "
    },
    {
      "metadata": {
        "trusted": false
      },
      "cell_type": "code",
      "source": "trimmed_features_corr = trimmed_features_df.corr()\n\ntrimmed_features_corr",
      "execution_count": 18,
      "outputs": [
        {
          "data": {
            "text/html": "<div>\n<style scoped>\n    .dataframe tbody tr th:only-of-type {\n        vertical-align: middle;\n    }\n\n    .dataframe tbody tr th {\n        vertical-align: top;\n    }\n\n    .dataframe thead th {\n        text-align: right;\n    }\n</style>\n<table border=\"1\" class=\"dataframe\">\n  <thead>\n    <tr style=\"text-align: right;\">\n      <th></th>\n      <th>Horsepower</th>\n      <th>Acceleration</th>\n      <th>Age</th>\n    </tr>\n  </thead>\n  <tbody>\n    <tr>\n      <td>Horsepower</td>\n      <td>1.000000</td>\n      <td>-0.670920</td>\n      <td>0.404458</td>\n    </tr>\n    <tr>\n      <td>Acceleration</td>\n      <td>-0.670920</td>\n      <td>1.000000</td>\n      <td>-0.292705</td>\n    </tr>\n    <tr>\n      <td>Age</td>\n      <td>0.404458</td>\n      <td>-0.292705</td>\n      <td>1.000000</td>\n    </tr>\n  </tbody>\n</table>\n</div>",
            "text/plain": "              Horsepower  Acceleration       Age\nHorsepower      1.000000     -0.670920  0.404458\nAcceleration   -0.670920      1.000000 -0.292705\nAge             0.404458     -0.292705  1.000000"
          },
          "execution_count": 18,
          "metadata": {},
          "output_type": "execute_result"
        }
      ]
    },
    {
      "metadata": {
        "trusted": false
      },
      "cell_type": "code",
      "source": "abs(trimmed_features_corr) > 0.8",
      "execution_count": 19,
      "outputs": [
        {
          "data": {
            "text/html": "<div>\n<style scoped>\n    .dataframe tbody tr th:only-of-type {\n        vertical-align: middle;\n    }\n\n    .dataframe tbody tr th {\n        vertical-align: top;\n    }\n\n    .dataframe thead th {\n        text-align: right;\n    }\n</style>\n<table border=\"1\" class=\"dataframe\">\n  <thead>\n    <tr style=\"text-align: right;\">\n      <th></th>\n      <th>Horsepower</th>\n      <th>Acceleration</th>\n      <th>Age</th>\n    </tr>\n  </thead>\n  <tbody>\n    <tr>\n      <td>Horsepower</td>\n      <td>True</td>\n      <td>False</td>\n      <td>False</td>\n    </tr>\n    <tr>\n      <td>Acceleration</td>\n      <td>False</td>\n      <td>True</td>\n      <td>False</td>\n    </tr>\n    <tr>\n      <td>Age</td>\n      <td>False</td>\n      <td>False</td>\n      <td>True</td>\n    </tr>\n  </tbody>\n</table>\n</div>",
            "text/plain": "              Horsepower  Acceleration    Age\nHorsepower          True         False  False\nAcceleration       False          True  False\nAge                False         False   True"
          },
          "execution_count": 19,
          "metadata": {},
          "output_type": "execute_result"
        }
      ]
    },
    {
      "metadata": {},
      "cell_type": "markdown",
      "source": "### Calculating VIF score for multicollinearity detection\n* 1 = not correlated.\n* Between 1 and 5 = moderately correlated.\n* Greater than 5 = highly correlated"
    },
    {
      "metadata": {
        "trusted": false
      },
      "cell_type": "code",
      "source": "from statsmodels.stats.outliers_influence import variance_inflation_factor",
      "execution_count": 20,
      "outputs": []
    },
    {
      "metadata": {
        "trusted": false
      },
      "cell_type": "code",
      "source": "vif = pd.DataFrame()\nvif[\"VIF Factor\"] = [variance_inflation_factor(X.values, i) for i in range(X.shape[1])]",
      "execution_count": 21,
      "outputs": []
    },
    {
      "metadata": {
        "trusted": false
      },
      "cell_type": "code",
      "source": "vif[\"features\"] = X.columns",
      "execution_count": 22,
      "outputs": []
    },
    {
      "metadata": {
        "trusted": false
      },
      "cell_type": "code",
      "source": "vif.round(2)",
      "execution_count": 23,
      "outputs": [
        {
          "data": {
            "text/html": "<div>\n<style scoped>\n    .dataframe tbody tr th:only-of-type {\n        vertical-align: middle;\n    }\n\n    .dataframe tbody tr th {\n        vertical-align: top;\n    }\n\n    .dataframe thead th {\n        text-align: right;\n    }\n</style>\n<table border=\"1\" class=\"dataframe\">\n  <thead>\n    <tr style=\"text-align: right;\">\n      <th></th>\n      <th>VIF Factor</th>\n      <th>features</th>\n    </tr>\n  </thead>\n  <tbody>\n    <tr>\n      <td>0</td>\n      <td>6.84</td>\n      <td>Cylinders</td>\n    </tr>\n    <tr>\n      <td>1</td>\n      <td>16.10</td>\n      <td>Displacement</td>\n    </tr>\n    <tr>\n      <td>2</td>\n      <td>8.82</td>\n      <td>Horsepower</td>\n    </tr>\n    <tr>\n      <td>3</td>\n      <td>10.69</td>\n      <td>Weight</td>\n    </tr>\n    <tr>\n      <td>4</td>\n      <td>2.49</td>\n      <td>Acceleration</td>\n    </tr>\n    <tr>\n      <td>5</td>\n      <td>1.22</td>\n      <td>Age</td>\n    </tr>\n  </tbody>\n</table>\n</div>",
            "text/plain": "   VIF Factor      features\n0        6.84     Cylinders\n1       16.10  Displacement\n2        8.82    Horsepower\n3       10.69        Weight\n4        2.49  Acceleration\n5        1.22           Age"
          },
          "execution_count": 23,
          "metadata": {},
          "output_type": "execute_result"
        }
      ]
    },
    {
      "metadata": {},
      "cell_type": "markdown",
      "source": "#### Dropping top 4 highest VIF factor column"
    },
    {
      "metadata": {
        "trusted": false
      },
      "cell_type": "code",
      "source": "X = X.drop(['Displacement', 'Weight'], axis=1)",
      "execution_count": 24,
      "outputs": []
    },
    {
      "metadata": {
        "trusted": false
      },
      "cell_type": "code",
      "source": "vif = pd.DataFrame()\nvif[\"VIF Factor\"] = [variance_inflation_factor(X.values, i) for i in range(X.shape[1])]",
      "execution_count": 25,
      "outputs": []
    },
    {
      "metadata": {
        "trusted": false
      },
      "cell_type": "code",
      "source": "vif[\"features\"] = X.columns",
      "execution_count": 26,
      "outputs": []
    },
    {
      "metadata": {
        "trusted": false
      },
      "cell_type": "code",
      "source": "vif.round(2)",
      "execution_count": 27,
      "outputs": [
        {
          "data": {
            "text/html": "<div>\n<style scoped>\n    .dataframe tbody tr th:only-of-type {\n        vertical-align: middle;\n    }\n\n    .dataframe tbody tr th {\n        vertical-align: top;\n    }\n\n    .dataframe thead th {\n        text-align: right;\n    }\n</style>\n<table border=\"1\" class=\"dataframe\">\n  <thead>\n    <tr style=\"text-align: right;\">\n      <th></th>\n      <th>VIF Factor</th>\n      <th>features</th>\n    </tr>\n  </thead>\n  <tbody>\n    <tr>\n      <td>0</td>\n      <td>3.05</td>\n      <td>Cylinders</td>\n    </tr>\n    <tr>\n      <td>1</td>\n      <td>4.56</td>\n      <td>Horsepower</td>\n    </tr>\n    <tr>\n      <td>2</td>\n      <td>1.90</td>\n      <td>Acceleration</td>\n    </tr>\n    <tr>\n      <td>3</td>\n      <td>1.20</td>\n      <td>Age</td>\n    </tr>\n  </tbody>\n</table>\n</div>",
            "text/plain": "   VIF Factor      features\n0        3.05     Cylinders\n1        4.56    Horsepower\n2        1.90  Acceleration\n3        1.20           Age"
          },
          "execution_count": 27,
          "metadata": {},
          "output_type": "execute_result"
        }
      ]
    },
    {
      "metadata": {},
      "cell_type": "markdown",
      "source": "#### Here we are dropping that features which are causing multicollinearity and then training the model\nHere we can see the difference between training, testing and adjusted r2 scores between the models that we build in the starting of the demo and this model."
    },
    {
      "metadata": {
        "trusted": false
      },
      "cell_type": "code",
      "source": "X = automobile.drop(['MPG', 'Displacement', 'Weight', 'Origin'], axis=1)\nY = automobile['MPG']\n\nx_train, x_test, y_train, y_test = train_test_split(X, Y, test_size=0.2)",
      "execution_count": 28,
      "outputs": []
    },
    {
      "metadata": {
        "trusted": false
      },
      "cell_type": "code",
      "source": "linear_model = LinearRegression(normalize=True).fit(x_train, y_train)",
      "execution_count": 29,
      "outputs": []
    },
    {
      "metadata": {
        "trusted": false
      },
      "cell_type": "code",
      "source": "print(\"Training_score : \" , linear_model.score(x_train, y_train))",
      "execution_count": 30,
      "outputs": [
        {
          "name": "stdout",
          "output_type": "stream",
          "text": "Training_score :  0.7309760422436427\n"
        }
      ]
    },
    {
      "metadata": {
        "trusted": false
      },
      "cell_type": "code",
      "source": "y_pred = linear_model.predict(x_test)",
      "execution_count": 31,
      "outputs": []
    },
    {
      "metadata": {
        "trusted": false
      },
      "cell_type": "code",
      "source": "print(\"Testing_score : \", r2_score(y_test, y_pred))",
      "execution_count": 32,
      "outputs": [
        {
          "name": "stdout",
          "output_type": "stream",
          "text": "Testing_score :  0.7009622546471816\n"
        }
      ]
    },
    {
      "metadata": {
        "trusted": false
      },
      "cell_type": "code",
      "source": "print(\"Adjusted_r2_score : \", adjusted_r2(r2_score(y_test, y_pred), y_test, x_test))",
      "execution_count": 33,
      "outputs": [
        {
          "name": "stdout",
          "output_type": "stream",
          "text": "Adjusted_r2_score :  0.6845766247648355\n"
        }
      ]
    },
    {
      "metadata": {
        "trusted": false
      },
      "cell_type": "code",
      "source": "",
      "execution_count": null,
      "outputs": []
    },
    {
      "metadata": {
        "trusted": false
      },
      "cell_type": "code",
      "source": "",
      "execution_count": null,
      "outputs": []
    },
    {
      "metadata": {
        "trusted": false
      },
      "cell_type": "code",
      "source": "",
      "execution_count": null,
      "outputs": []
    },
    {
      "metadata": {
        "trusted": false
      },
      "cell_type": "code",
      "source": "",
      "execution_count": null,
      "outputs": []
    },
    {
      "metadata": {
        "trusted": false
      },
      "cell_type": "code",
      "source": "",
      "execution_count": null,
      "outputs": []
    },
    {
      "metadata": {
        "trusted": false
      },
      "cell_type": "code",
      "source": "",
      "execution_count": null,
      "outputs": []
    },
    {
      "metadata": {
        "trusted": false
      },
      "cell_type": "code",
      "source": "",
      "execution_count": null,
      "outputs": []
    },
    {
      "metadata": {
        "trusted": false
      },
      "cell_type": "code",
      "source": "",
      "execution_count": null,
      "outputs": []
    },
    {
      "metadata": {
        "trusted": false
      },
      "cell_type": "code",
      "source": "",
      "execution_count": null,
      "outputs": []
    },
    {
      "metadata": {
        "trusted": false
      },
      "cell_type": "code",
      "source": "",
      "execution_count": null,
      "outputs": []
    },
    {
      "metadata": {
        "trusted": false
      },
      "cell_type": "code",
      "source": "",
      "execution_count": null,
      "outputs": []
    },
    {
      "metadata": {
        "trusted": false
      },
      "cell_type": "code",
      "source": "",
      "execution_count": null,
      "outputs": []
    },
    {
      "metadata": {
        "trusted": false
      },
      "cell_type": "code",
      "source": "",
      "execution_count": null,
      "outputs": []
    },
    {
      "metadata": {
        "trusted": false
      },
      "cell_type": "code",
      "source": "",
      "execution_count": null,
      "outputs": []
    },
    {
      "metadata": {
        "trusted": false
      },
      "cell_type": "code",
      "source": "",
      "execution_count": null,
      "outputs": []
    },
    {
      "metadata": {
        "trusted": false
      },
      "cell_type": "code",
      "source": "",
      "execution_count": null,
      "outputs": []
    },
    {
      "metadata": {
        "trusted": false
      },
      "cell_type": "code",
      "source": "",
      "execution_count": null,
      "outputs": []
    },
    {
      "metadata": {
        "trusted": false
      },
      "cell_type": "code",
      "source": "",
      "execution_count": null,
      "outputs": []
    },
    {
      "metadata": {
        "trusted": false
      },
      "cell_type": "code",
      "source": "",
      "execution_count": null,
      "outputs": []
    },
    {
      "metadata": {
        "trusted": false
      },
      "cell_type": "code",
      "source": "",
      "execution_count": null,
      "outputs": []
    },
    {
      "metadata": {
        "trusted": false
      },
      "cell_type": "code",
      "source": "",
      "execution_count": null,
      "outputs": []
    },
    {
      "metadata": {
        "trusted": false
      },
      "cell_type": "code",
      "source": "",
      "execution_count": null,
      "outputs": []
    }
  ],
  "metadata": {
    "kernelspec": {
      "name": "python3",
      "display_name": "Python 3",
      "language": "python"
    },
    "language_info": {
      "mimetype": "text/x-python",
      "nbconvert_exporter": "python",
      "name": "python",
      "pygments_lexer": "ipython3",
      "version": "3.5.4",
      "file_extension": ".py",
      "codemirror_mode": {
        "version": 3,
        "name": "ipython"
      }
    }
  },
  "nbformat": 4,
  "nbformat_minor": 2
}