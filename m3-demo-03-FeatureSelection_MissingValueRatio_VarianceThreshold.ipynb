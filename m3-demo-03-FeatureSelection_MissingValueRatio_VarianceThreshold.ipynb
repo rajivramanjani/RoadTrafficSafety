{
  "cells": [
    {
      "metadata": {},
      "cell_type": "markdown",
      "source": "### Importing libraries"
    },
    {
      "metadata": {
        "trusted": false
      },
      "cell_type": "code",
      "source": "import pandas as pd\nimport numpy as np",
      "execution_count": 1,
      "outputs": []
    },
    {
      "metadata": {
        "trusted": false
      },
      "cell_type": "code",
      "source": "diabetes_data = pd.read_csv('datasets/diabetes.csv')\n\ndiabetes_data.head(10)",
      "execution_count": 2,
      "outputs": [
        {
          "data": {
            "text/html": "<div>\n<style scoped>\n    .dataframe tbody tr th:only-of-type {\n        vertical-align: middle;\n    }\n\n    .dataframe tbody tr th {\n        vertical-align: top;\n    }\n\n    .dataframe thead th {\n        text-align: right;\n    }\n</style>\n<table border=\"1\" class=\"dataframe\">\n  <thead>\n    <tr style=\"text-align: right;\">\n      <th></th>\n      <th>Pregnancies</th>\n      <th>Glucose</th>\n      <th>BloodPressure</th>\n      <th>SkinThickness</th>\n      <th>Insulin</th>\n      <th>BMI</th>\n      <th>DiabetesPedigreeFunction</th>\n      <th>Age</th>\n      <th>Outcome</th>\n    </tr>\n  </thead>\n  <tbody>\n    <tr>\n      <th>0</th>\n      <td>6</td>\n      <td>148</td>\n      <td>72</td>\n      <td>35</td>\n      <td>0</td>\n      <td>33.6</td>\n      <td>0.627</td>\n      <td>50</td>\n      <td>1</td>\n    </tr>\n    <tr>\n      <th>1</th>\n      <td>1</td>\n      <td>85</td>\n      <td>66</td>\n      <td>29</td>\n      <td>0</td>\n      <td>26.6</td>\n      <td>0.351</td>\n      <td>31</td>\n      <td>0</td>\n    </tr>\n    <tr>\n      <th>2</th>\n      <td>8</td>\n      <td>183</td>\n      <td>64</td>\n      <td>0</td>\n      <td>0</td>\n      <td>23.3</td>\n      <td>0.672</td>\n      <td>32</td>\n      <td>1</td>\n    </tr>\n    <tr>\n      <th>3</th>\n      <td>1</td>\n      <td>89</td>\n      <td>66</td>\n      <td>23</td>\n      <td>94</td>\n      <td>28.1</td>\n      <td>0.167</td>\n      <td>21</td>\n      <td>0</td>\n    </tr>\n    <tr>\n      <th>4</th>\n      <td>0</td>\n      <td>137</td>\n      <td>40</td>\n      <td>35</td>\n      <td>168</td>\n      <td>43.1</td>\n      <td>2.288</td>\n      <td>33</td>\n      <td>1</td>\n    </tr>\n    <tr>\n      <th>5</th>\n      <td>5</td>\n      <td>116</td>\n      <td>74</td>\n      <td>0</td>\n      <td>0</td>\n      <td>25.6</td>\n      <td>0.201</td>\n      <td>30</td>\n      <td>0</td>\n    </tr>\n    <tr>\n      <th>6</th>\n      <td>3</td>\n      <td>78</td>\n      <td>50</td>\n      <td>32</td>\n      <td>88</td>\n      <td>31.0</td>\n      <td>0.248</td>\n      <td>26</td>\n      <td>1</td>\n    </tr>\n    <tr>\n      <th>7</th>\n      <td>10</td>\n      <td>115</td>\n      <td>0</td>\n      <td>0</td>\n      <td>0</td>\n      <td>35.3</td>\n      <td>0.134</td>\n      <td>29</td>\n      <td>0</td>\n    </tr>\n    <tr>\n      <th>8</th>\n      <td>2</td>\n      <td>197</td>\n      <td>70</td>\n      <td>45</td>\n      <td>543</td>\n      <td>30.5</td>\n      <td>0.158</td>\n      <td>53</td>\n      <td>1</td>\n    </tr>\n    <tr>\n      <th>9</th>\n      <td>8</td>\n      <td>125</td>\n      <td>96</td>\n      <td>0</td>\n      <td>0</td>\n      <td>0.0</td>\n      <td>0.232</td>\n      <td>54</td>\n      <td>1</td>\n    </tr>\n  </tbody>\n</table>\n</div>",
            "text/plain": "   Pregnancies  Glucose  BloodPressure  SkinThickness  Insulin   BMI  \\\n0            6      148             72             35        0  33.6   \n1            1       85             66             29        0  26.6   \n2            8      183             64              0        0  23.3   \n3            1       89             66             23       94  28.1   \n4            0      137             40             35      168  43.1   \n5            5      116             74              0        0  25.6   \n6            3       78             50             32       88  31.0   \n7           10      115              0              0        0  35.3   \n8            2      197             70             45      543  30.5   \n9            8      125             96              0        0   0.0   \n\n   DiabetesPedigreeFunction  Age  Outcome  \n0                     0.627   50        1  \n1                     0.351   31        0  \n2                     0.672   32        1  \n3                     0.167   21        0  \n4                     2.288   33        1  \n5                     0.201   30        0  \n6                     0.248   26        1  \n7                     0.134   29        0  \n8                     0.158   53        1  \n9                     0.232   54        1  "
          },
          "execution_count": 2,
          "metadata": {},
          "output_type": "execute_result"
        }
      ]
    },
    {
      "metadata": {},
      "cell_type": "markdown",
      "source": "### Missing value ratio"
    },
    {
      "metadata": {
        "trusted": false
      },
      "cell_type": "code",
      "source": "diabetes_data['Glucose'].replace(0, np.nan, inplace= True)\ndiabetes_data['BloodPressure'].replace(0, np.nan, inplace= True)\ndiabetes_data['SkinThickness'].replace(0, np.nan, inplace= True)\ndiabetes_data['Insulin'].replace(0, np.nan, inplace= True)\ndiabetes_data['BMI'].replace(0, np.nan, inplace= True)",
      "execution_count": 3,
      "outputs": []
    },
    {
      "metadata": {
        "trusted": false
      },
      "cell_type": "code",
      "source": "diabetes_data.isnull().sum()",
      "execution_count": 4,
      "outputs": [
        {
          "data": {
            "text/plain": "Pregnancies                   0\nGlucose                       5\nBloodPressure                35\nSkinThickness               227\nInsulin                     374\nBMI                          11\nDiabetesPedigreeFunction      0\nAge                           0\nOutcome                       0\ndtype: int64"
          },
          "execution_count": 4,
          "metadata": {},
          "output_type": "execute_result"
        }
      ]
    },
    {
      "metadata": {},
      "cell_type": "markdown",
      "source": "### Calculating missing value ratio\nWe can drop those column for which missing value ratio is high. In our case SkinThickness and Insulin column has 29% and 48% missing values so we can drop these columns"
    },
    {
      "metadata": {
        "trusted": false
      },
      "cell_type": "code",
      "source": "diabetes_data['Glucose'].isnull().sum() / len(diabetes_data) * 100",
      "execution_count": 5,
      "outputs": [
        {
          "data": {
            "text/plain": "0.6510416666666667"
          },
          "execution_count": 5,
          "metadata": {},
          "output_type": "execute_result"
        }
      ]
    },
    {
      "metadata": {
        "trusted": false
      },
      "cell_type": "code",
      "source": "diabetes_data['BloodPressure'].isnull().sum() / len(diabetes_data) *100",
      "execution_count": 6,
      "outputs": [
        {
          "data": {
            "text/plain": "4.557291666666666"
          },
          "execution_count": 6,
          "metadata": {},
          "output_type": "execute_result"
        }
      ]
    },
    {
      "metadata": {
        "trusted": false
      },
      "cell_type": "code",
      "source": "diabetes_data['SkinThickness'].isnull().sum() / len(diabetes_data) * 100",
      "execution_count": 7,
      "outputs": [
        {
          "data": {
            "text/plain": "29.557291666666668"
          },
          "execution_count": 7,
          "metadata": {},
          "output_type": "execute_result"
        }
      ]
    },
    {
      "metadata": {
        "trusted": false
      },
      "cell_type": "code",
      "source": "diabetes_data['Insulin'].isnull().sum() / len(diabetes_data) * 100",
      "execution_count": 8,
      "outputs": [
        {
          "data": {
            "text/plain": "48.69791666666667"
          },
          "execution_count": 8,
          "metadata": {},
          "output_type": "execute_result"
        }
      ]
    },
    {
      "metadata": {
        "trusted": false
      },
      "cell_type": "code",
      "source": "diabetes_data['BMI'].isnull().sum() / len(diabetes_data) * 100",
      "execution_count": 9,
      "outputs": [
        {
          "data": {
            "text/plain": "1.4322916666666665"
          },
          "execution_count": 9,
          "metadata": {},
          "output_type": "execute_result"
        }
      ]
    },
    {
      "metadata": {
        "trusted": false
      },
      "cell_type": "code",
      "source": "diabetes_data.columns",
      "execution_count": 13,
      "outputs": [
        {
          "data": {
            "text/plain": "Index(['Pregnancies', 'Glucose', 'BloodPressure', 'SkinThickness', 'Insulin',\n       'BMI', 'DiabetesPedigreeFunction', 'Age', 'Outcome'],\n      dtype='object')"
          },
          "execution_count": 13,
          "metadata": {},
          "output_type": "execute_result"
        }
      ]
    },
    {
      "metadata": {
        "trusted": false
      },
      "cell_type": "code",
      "source": "diabetes_data_trimmed = diabetes_data.dropna(thresh=int(diabetes_data.shape[0] * .9), axis=1)\n\ndiabetes_data_trimmed.columns",
      "execution_count": 15,
      "outputs": [
        {
          "data": {
            "text/plain": "Index(['Pregnancies', 'Glucose', 'BloodPressure', 'BMI',\n       'DiabetesPedigreeFunction', 'Age', 'Outcome'],\n      dtype='object')"
          },
          "execution_count": 15,
          "metadata": {},
          "output_type": "execute_result"
        }
      ]
    },
    {
      "metadata": {
        "trusted": false
      },
      "cell_type": "code",
      "source": "diabetes_data = pd.read_csv('datasets/diabetes_processed.csv')\n\ndiabetes_data.head(10)",
      "execution_count": 17,
      "outputs": [
        {
          "data": {
            "text/html": "<div>\n<style scoped>\n    .dataframe tbody tr th:only-of-type {\n        vertical-align: middle;\n    }\n\n    .dataframe tbody tr th {\n        vertical-align: top;\n    }\n\n    .dataframe thead th {\n        text-align: right;\n    }\n</style>\n<table border=\"1\" class=\"dataframe\">\n  <thead>\n    <tr style=\"text-align: right;\">\n      <th></th>\n      <th>Pregnancies</th>\n      <th>Glucose</th>\n      <th>BloodPressure</th>\n      <th>SkinThickness</th>\n      <th>Insulin</th>\n      <th>BMI</th>\n      <th>DiabetesPedigreeFunction</th>\n      <th>Age</th>\n      <th>Outcome</th>\n    </tr>\n  </thead>\n  <tbody>\n    <tr>\n      <th>0</th>\n      <td>6.0</td>\n      <td>148.0</td>\n      <td>72.000000</td>\n      <td>35.0</td>\n      <td>219.028414</td>\n      <td>33.6</td>\n      <td>0.627</td>\n      <td>50.0</td>\n      <td>1</td>\n    </tr>\n    <tr>\n      <th>1</th>\n      <td>1.0</td>\n      <td>85.0</td>\n      <td>66.000000</td>\n      <td>29.0</td>\n      <td>70.341550</td>\n      <td>26.6</td>\n      <td>0.351</td>\n      <td>31.0</td>\n      <td>0</td>\n    </tr>\n    <tr>\n      <th>2</th>\n      <td>8.0</td>\n      <td>183.0</td>\n      <td>64.000000</td>\n      <td>32.0</td>\n      <td>270.573172</td>\n      <td>23.3</td>\n      <td>0.672</td>\n      <td>32.0</td>\n      <td>1</td>\n    </tr>\n    <tr>\n      <th>3</th>\n      <td>1.0</td>\n      <td>89.0</td>\n      <td>66.000000</td>\n      <td>23.0</td>\n      <td>94.000000</td>\n      <td>28.1</td>\n      <td>0.167</td>\n      <td>21.0</td>\n      <td>0</td>\n    </tr>\n    <tr>\n      <th>4</th>\n      <td>0.0</td>\n      <td>137.0</td>\n      <td>40.000000</td>\n      <td>35.0</td>\n      <td>168.000000</td>\n      <td>43.1</td>\n      <td>2.288</td>\n      <td>33.0</td>\n      <td>1</td>\n    </tr>\n    <tr>\n      <th>5</th>\n      <td>5.0</td>\n      <td>116.0</td>\n      <td>74.000000</td>\n      <td>32.0</td>\n      <td>127.840221</td>\n      <td>25.6</td>\n      <td>0.201</td>\n      <td>30.0</td>\n      <td>0</td>\n    </tr>\n    <tr>\n      <th>6</th>\n      <td>3.0</td>\n      <td>78.0</td>\n      <td>50.000000</td>\n      <td>32.0</td>\n      <td>88.000000</td>\n      <td>31.0</td>\n      <td>0.248</td>\n      <td>26.0</td>\n      <td>1</td>\n    </tr>\n    <tr>\n      <th>7</th>\n      <td>10.0</td>\n      <td>115.0</td>\n      <td>72.405184</td>\n      <td>32.0</td>\n      <td>136.570245</td>\n      <td>35.3</td>\n      <td>0.134</td>\n      <td>29.0</td>\n      <td>0</td>\n    </tr>\n    <tr>\n      <th>8</th>\n      <td>2.0</td>\n      <td>197.0</td>\n      <td>70.000000</td>\n      <td>45.0</td>\n      <td>543.000000</td>\n      <td>30.5</td>\n      <td>0.158</td>\n      <td>53.0</td>\n      <td>1</td>\n    </tr>\n    <tr>\n      <th>9</th>\n      <td>8.0</td>\n      <td>125.0</td>\n      <td>96.000000</td>\n      <td>32.0</td>\n      <td>155.571480</td>\n      <td>32.0</td>\n      <td>0.232</td>\n      <td>54.0</td>\n      <td>1</td>\n    </tr>\n  </tbody>\n</table>\n</div>",
            "text/plain": "   Pregnancies  Glucose  BloodPressure  SkinThickness     Insulin   BMI  \\\n0          6.0    148.0      72.000000           35.0  219.028414  33.6   \n1          1.0     85.0      66.000000           29.0   70.341550  26.6   \n2          8.0    183.0      64.000000           32.0  270.573172  23.3   \n3          1.0     89.0      66.000000           23.0   94.000000  28.1   \n4          0.0    137.0      40.000000           35.0  168.000000  43.1   \n5          5.0    116.0      74.000000           32.0  127.840221  25.6   \n6          3.0     78.0      50.000000           32.0   88.000000  31.0   \n7         10.0    115.0      72.405184           32.0  136.570245  35.3   \n8          2.0    197.0      70.000000           45.0  543.000000  30.5   \n9          8.0    125.0      96.000000           32.0  155.571480  32.0   \n\n   DiabetesPedigreeFunction   Age  Outcome  \n0                     0.627  50.0        1  \n1                     0.351  31.0        0  \n2                     0.672  32.0        1  \n3                     0.167  21.0        0  \n4                     2.288  33.0        1  \n5                     0.201  30.0        0  \n6                     0.248  26.0        1  \n7                     0.134  29.0        0  \n8                     0.158  53.0        1  \n9                     0.232  54.0        1  "
          },
          "execution_count": 17,
          "metadata": {},
          "output_type": "execute_result"
        }
      ]
    },
    {
      "metadata": {
        "trusted": false
      },
      "cell_type": "code",
      "source": "X = diabetes_data.drop('Outcome', axis = 1)\nY = diabetes_data['Outcome']",
      "execution_count": 18,
      "outputs": []
    },
    {
      "metadata": {
        "trusted": false
      },
      "cell_type": "code",
      "source": "X.var(axis=0)",
      "execution_count": 20,
      "outputs": [
        {
          "data": {
            "text/plain": "Pregnancies                   11.354056\nGlucose                      926.489244\nBloodPressure                146.321591\nSkinThickness                 78.969986\nInsulin                     9449.130490\nBMI                           47.270664\nDiabetesPedigreeFunction       0.109779\nAge                          138.303046\ndtype: float64"
          },
          "execution_count": 20,
          "metadata": {},
          "output_type": "execute_result"
        }
      ]
    },
    {
      "metadata": {
        "trusted": false
      },
      "cell_type": "code",
      "source": "from sklearn.preprocessing import minmax_scale\n\nX_scaled = pd.DataFrame(minmax_scale(X, feature_range=(0, 10)), columns=X.columns)",
      "execution_count": 27,
      "outputs": []
    },
    {
      "metadata": {
        "trusted": false
      },
      "cell_type": "code",
      "source": "X_scaled.var()",
      "execution_count": 28,
      "outputs": [
        {
          "data": {
            "text/plain": "Pregnancies                 3.928739\nGlucose                     3.856355\nBloodPressure               1.523548\nSkinThickness               0.933010\nInsulin                     1.270004\nBMI                         1.976851\nDiabetesPedigreeFunction    2.001447\nAge                         3.841751\ndtype: float64"
          },
          "execution_count": 28,
          "metadata": {},
          "output_type": "execute_result"
        }
      ]
    },
    {
      "metadata": {
        "trusted": false
      },
      "cell_type": "code",
      "source": "from sklearn.feature_selection import VarianceThreshold\n\nselect_features = VarianceThreshold(threshold = 1.0)",
      "execution_count": 29,
      "outputs": []
    },
    {
      "metadata": {
        "trusted": false
      },
      "cell_type": "code",
      "source": "X_new = select_features.fit_transform(X_scaled)",
      "execution_count": 30,
      "outputs": []
    },
    {
      "metadata": {
        "trusted": false
      },
      "cell_type": "code",
      "source": "X_new.shape",
      "execution_count": 31,
      "outputs": [
        {
          "data": {
            "text/plain": "(768, 7)"
          },
          "execution_count": 31,
          "metadata": {},
          "output_type": "execute_result"
        }
      ]
    },
    {
      "metadata": {
        "trusted": false
      },
      "cell_type": "code",
      "source": "var_df = pd.DataFrame({'feature names' : list(X_scaled),\n                       'variances' : select_features.variances_\n                      })\n\nvar_df",
      "execution_count": 33,
      "outputs": [
        {
          "data": {
            "text/html": "<div>\n<style scoped>\n    .dataframe tbody tr th:only-of-type {\n        vertical-align: middle;\n    }\n\n    .dataframe tbody tr th {\n        vertical-align: top;\n    }\n\n    .dataframe thead th {\n        text-align: right;\n    }\n</style>\n<table border=\"1\" class=\"dataframe\">\n  <thead>\n    <tr style=\"text-align: right;\">\n      <th></th>\n      <th>feature names</th>\n      <th>variances</th>\n    </tr>\n  </thead>\n  <tbody>\n    <tr>\n      <th>0</th>\n      <td>Pregnancies</td>\n      <td>3.923624</td>\n    </tr>\n    <tr>\n      <th>1</th>\n      <td>Glucose</td>\n      <td>3.851334</td>\n    </tr>\n    <tr>\n      <th>2</th>\n      <td>BloodPressure</td>\n      <td>1.521565</td>\n    </tr>\n    <tr>\n      <th>3</th>\n      <td>SkinThickness</td>\n      <td>0.931795</td>\n    </tr>\n    <tr>\n      <th>4</th>\n      <td>Insulin</td>\n      <td>1.268350</td>\n    </tr>\n    <tr>\n      <th>5</th>\n      <td>BMI</td>\n      <td>1.974277</td>\n    </tr>\n    <tr>\n      <th>6</th>\n      <td>DiabetesPedigreeFunction</td>\n      <td>1.998841</td>\n    </tr>\n    <tr>\n      <th>7</th>\n      <td>Age</td>\n      <td>3.836749</td>\n    </tr>\n  </tbody>\n</table>\n</div>",
            "text/plain": "              feature names  variances\n0               Pregnancies   3.923624\n1                   Glucose   3.851334\n2             BloodPressure   1.521565\n3             SkinThickness   0.931795\n4                   Insulin   1.268350\n5                       BMI   1.974277\n6  DiabetesPedigreeFunction   1.998841\n7                       Age   3.836749"
          },
          "execution_count": 33,
          "metadata": {},
          "output_type": "execute_result"
        }
      ]
    },
    {
      "metadata": {
        "trusted": false
      },
      "cell_type": "code",
      "source": "X_new = pd.DataFrame(X_new)\n\nX_new.head()",
      "execution_count": 34,
      "outputs": [
        {
          "data": {
            "text/html": "<div>\n<style scoped>\n    .dataframe tbody tr th:only-of-type {\n        vertical-align: middle;\n    }\n\n    .dataframe tbody tr th {\n        vertical-align: top;\n    }\n\n    .dataframe thead th {\n        text-align: right;\n    }\n</style>\n<table border=\"1\" class=\"dataframe\">\n  <thead>\n    <tr style=\"text-align: right;\">\n      <th></th>\n      <th>0</th>\n      <th>1</th>\n      <th>2</th>\n      <th>3</th>\n      <th>4</th>\n      <th>5</th>\n      <th>6</th>\n    </tr>\n  </thead>\n  <tbody>\n    <tr>\n      <th>0</th>\n      <td>3.529412</td>\n      <td>6.709677</td>\n      <td>4.897959</td>\n      <td>2.731339</td>\n      <td>3.149284</td>\n      <td>2.344150</td>\n      <td>4.833333</td>\n    </tr>\n    <tr>\n      <th>1</th>\n      <td>0.588235</td>\n      <td>2.645161</td>\n      <td>4.285714</td>\n      <td>1.007569</td>\n      <td>1.717791</td>\n      <td>1.165670</td>\n      <td>1.666667</td>\n    </tr>\n    <tr>\n      <th>2</th>\n      <td>4.705882</td>\n      <td>8.967742</td>\n      <td>4.081633</td>\n      <td>3.328912</td>\n      <td>1.042945</td>\n      <td>2.536294</td>\n      <td>1.833333</td>\n    </tr>\n    <tr>\n      <th>3</th>\n      <td>0.588235</td>\n      <td>2.903226</td>\n      <td>4.285714</td>\n      <td>1.281848</td>\n      <td>2.024540</td>\n      <td>0.380017</td>\n      <td>0.000000</td>\n    </tr>\n    <tr>\n      <th>4</th>\n      <td>0.000000</td>\n      <td>6.000000</td>\n      <td>1.632653</td>\n      <td>2.139752</td>\n      <td>5.092025</td>\n      <td>9.436379</td>\n      <td>2.000000</td>\n    </tr>\n  </tbody>\n</table>\n</div>",
            "text/plain": "          0         1         2         3         4         5         6\n0  3.529412  6.709677  4.897959  2.731339  3.149284  2.344150  4.833333\n1  0.588235  2.645161  4.285714  1.007569  1.717791  1.165670  1.666667\n2  4.705882  8.967742  4.081633  3.328912  1.042945  2.536294  1.833333\n3  0.588235  2.903226  4.285714  1.281848  2.024540  0.380017  0.000000\n4  0.000000  6.000000  1.632653  2.139752  5.092025  9.436379  2.000000"
          },
          "execution_count": 34,
          "metadata": {},
          "output_type": "execute_result"
        }
      ]
    },
    {
      "metadata": {
        "trusted": false
      },
      "cell_type": "code",
      "source": "selected_features = []\n\nfor i in range(len(X_new.columns)):\n    for j in range(len(X_scaled.columns)):\n\n        if(X_new.iloc[:,i].equals(X_scaled.iloc[:,j])):\n            selected_features.append(X_scaled.columns[j])\n            \nselected_features",
      "execution_count": 36,
      "outputs": [
        {
          "data": {
            "text/plain": "['Pregnancies',\n 'Glucose',\n 'BloodPressure',\n 'Insulin',\n 'BMI',\n 'DiabetesPedigreeFunction',\n 'Age']"
          },
          "execution_count": 36,
          "metadata": {},
          "output_type": "execute_result"
        }
      ]
    },
    {
      "metadata": {
        "trusted": false
      },
      "cell_type": "code",
      "source": "",
      "execution_count": null,
      "outputs": []
    },
    {
      "metadata": {
        "trusted": false
      },
      "cell_type": "code",
      "source": "",
      "execution_count": null,
      "outputs": []
    },
    {
      "metadata": {
        "trusted": false
      },
      "cell_type": "code",
      "source": "",
      "execution_count": null,
      "outputs": []
    },
    {
      "metadata": {
        "trusted": false
      },
      "cell_type": "code",
      "source": "",
      "execution_count": null,
      "outputs": []
    },
    {
      "metadata": {
        "trusted": false
      },
      "cell_type": "code",
      "source": "",
      "execution_count": null,
      "outputs": []
    },
    {
      "metadata": {
        "trusted": false
      },
      "cell_type": "code",
      "source": "",
      "execution_count": null,
      "outputs": []
    },
    {
      "metadata": {
        "trusted": false
      },
      "cell_type": "code",
      "source": "",
      "execution_count": null,
      "outputs": []
    },
    {
      "metadata": {
        "trusted": false
      },
      "cell_type": "code",
      "source": "",
      "execution_count": null,
      "outputs": []
    },
    {
      "metadata": {
        "trusted": false
      },
      "cell_type": "code",
      "source": "",
      "execution_count": null,
      "outputs": []
    },
    {
      "metadata": {
        "trusted": false
      },
      "cell_type": "code",
      "source": "",
      "execution_count": null,
      "outputs": []
    },
    {
      "metadata": {
        "trusted": false
      },
      "cell_type": "code",
      "source": "",
      "execution_count": null,
      "outputs": []
    },
    {
      "metadata": {
        "trusted": false
      },
      "cell_type": "code",
      "source": "",
      "execution_count": null,
      "outputs": []
    },
    {
      "metadata": {
        "trusted": false
      },
      "cell_type": "code",
      "source": "",
      "execution_count": null,
      "outputs": []
    },
    {
      "metadata": {
        "trusted": false
      },
      "cell_type": "code",
      "source": "",
      "execution_count": null,
      "outputs": []
    },
    {
      "metadata": {
        "trusted": false
      },
      "cell_type": "code",
      "source": "",
      "execution_count": null,
      "outputs": []
    },
    {
      "metadata": {
        "trusted": false
      },
      "cell_type": "code",
      "source": "",
      "execution_count": null,
      "outputs": []
    },
    {
      "metadata": {
        "trusted": false
      },
      "cell_type": "code",
      "source": "",
      "execution_count": null,
      "outputs": []
    }
  ],
  "metadata": {
    "kernelspec": {
      "name": "python3",
      "display_name": "Python 3",
      "language": "python"
    },
    "language_info": {
      "mimetype": "text/x-python",
      "nbconvert_exporter": "python",
      "name": "python",
      "file_extension": ".py",
      "version": "3.5.4",
      "pygments_lexer": "ipython3",
      "codemirror_mode": {
        "version": 3,
        "name": "ipython"
      }
    }
  },
  "nbformat": 4,
  "nbformat_minor": 2
}