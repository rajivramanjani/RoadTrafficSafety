{
  "cells": [
    {
      "metadata": {},
      "cell_type": "markdown",
      "source": "### Importing pandas library"
    },
    {
      "metadata": {
        "trusted": false
      },
      "cell_type": "code",
      "source": "import pandas as pd",
      "execution_count": 1,
      "outputs": []
    },
    {
      "metadata": {},
      "cell_type": "markdown",
      "source": "### Loading Dataset"
    },
    {
      "metadata": {
        "trusted": false
      },
      "cell_type": "code",
      "source": "diabetes_data = pd.read_csv('dataset/PimaIndians_processed.csv')\n\ndiabetes_data.head(10)",
      "execution_count": 2,
      "outputs": [
        {
          "data": {
            "text/html": "<div>\n<style scoped>\n    .dataframe tbody tr th:only-of-type {\n        vertical-align: middle;\n    }\n\n    .dataframe tbody tr th {\n        vertical-align: top;\n    }\n\n    .dataframe thead th {\n        text-align: right;\n    }\n</style>\n<table border=\"1\" class=\"dataframe\">\n  <thead>\n    <tr style=\"text-align: right;\">\n      <th></th>\n      <th>pregnant</th>\n      <th>glucose</th>\n      <th>diastolic</th>\n      <th>triceps</th>\n      <th>insulin</th>\n      <th>bmi</th>\n      <th>diabetes</th>\n      <th>age</th>\n      <th>test</th>\n    </tr>\n  </thead>\n  <tbody>\n    <tr>\n      <th>0</th>\n      <td>-0.717427</td>\n      <td>-1.091046</td>\n      <td>-0.373655</td>\n      <td>-0.585110</td>\n      <td>-0.522842</td>\n      <td>-0.710421</td>\n      <td>-1.031876</td>\n      <td>-0.968299</td>\n      <td>0</td>\n    </tr>\n    <tr>\n      <th>1</th>\n      <td>-1.029213</td>\n      <td>0.466314</td>\n      <td>-2.456964</td>\n      <td>0.557421</td>\n      <td>0.100631</td>\n      <td>1.426730</td>\n      <td>5.115111</td>\n      <td>0.209585</td>\n      <td>1</td>\n    </tr>\n    <tr>\n      <th>2</th>\n      <td>-0.093854</td>\n      <td>-1.447941</td>\n      <td>-1.655691</td>\n      <td>0.271788</td>\n      <td>-0.573394</td>\n      <td>-0.297238</td>\n      <td>-0.797126</td>\n      <td>-0.477514</td>\n      <td>1</td>\n    </tr>\n    <tr>\n      <th>3</th>\n      <td>-0.405640</td>\n      <td>2.413014</td>\n      <td>-0.053146</td>\n      <td>1.509530</td>\n      <td>3.260122</td>\n      <td>-0.368477</td>\n      <td>-1.057960</td>\n      <td>2.172726</td>\n      <td>1</td>\n    </tr>\n    <tr>\n      <th>4</th>\n      <td>-0.717427</td>\n      <td>2.153454</td>\n      <td>-0.854419</td>\n      <td>-0.585110</td>\n      <td>5.812990</td>\n      <td>-0.425468</td>\n      <td>-0.362402</td>\n      <td>2.761668</td>\n      <td>1</td>\n    </tr>\n    <tr>\n      <th>5</th>\n      <td>0.529718</td>\n      <td>1.407219</td>\n      <td>0.107109</td>\n      <td>-0.965953</td>\n      <td>0.159608</td>\n      <td>-1.038117</td>\n      <td>0.185349</td>\n      <td>1.976412</td>\n      <td>1</td>\n    </tr>\n    <tr>\n      <th>6</th>\n      <td>-1.029213</td>\n      <td>-0.150141</td>\n      <td>1.068636</td>\n      <td>1.699951</td>\n      <td>0.623000</td>\n      <td>1.811417</td>\n      <td>0.081015</td>\n      <td>0.013271</td>\n      <td>1</td>\n    </tr>\n    <tr>\n      <th>7</th>\n      <td>-0.717427</td>\n      <td>-0.636816</td>\n      <td>-3.258237</td>\n      <td>0.843053</td>\n      <td>-0.615520</td>\n      <td>1.455225</td>\n      <td>-0.985506</td>\n      <td>0.209585</td>\n      <td>0</td>\n    </tr>\n    <tr>\n      <th>8</th>\n      <td>-0.717427</td>\n      <td>-0.247476</td>\n      <td>-0.053146</td>\n      <td>0.081366</td>\n      <td>-0.505991</td>\n      <td>0.215678</td>\n      <td>0.017256</td>\n      <td>0.111428</td>\n      <td>1</td>\n    </tr>\n    <tr>\n      <th>9</th>\n      <td>-0.093854</td>\n      <td>0.109419</td>\n      <td>1.389146</td>\n      <td>1.128686</td>\n      <td>0.665127</td>\n      <td>0.885318</td>\n      <td>0.524433</td>\n      <td>-0.379357</td>\n      <td>0</td>\n    </tr>\n  </tbody>\n</table>\n</div>",
            "text/plain": "   pregnant   glucose  diastolic   triceps   insulin       bmi  diabetes  \\\n0 -0.717427 -1.091046  -0.373655 -0.585110 -0.522842 -0.710421 -1.031876   \n1 -1.029213  0.466314  -2.456964  0.557421  0.100631  1.426730  5.115111   \n2 -0.093854 -1.447941  -1.655691  0.271788 -0.573394 -0.297238 -0.797126   \n3 -0.405640  2.413014  -0.053146  1.509530  3.260122 -0.368477 -1.057960   \n4 -0.717427  2.153454  -0.854419 -0.585110  5.812990 -0.425468 -0.362402   \n5  0.529718  1.407219   0.107109 -0.965953  0.159608 -1.038117  0.185349   \n6 -1.029213 -0.150141   1.068636  1.699951  0.623000  1.811417  0.081015   \n7 -0.717427 -0.636816  -3.258237  0.843053 -0.615520  1.455225 -0.985506   \n8 -0.717427 -0.247476  -0.053146  0.081366 -0.505991  0.215678  0.017256   \n9 -0.093854  0.109419   1.389146  1.128686  0.665127  0.885318  0.524433   \n\n        age  test  \n0 -0.968299     0  \n1  0.209585     1  \n2 -0.477514     1  \n3  2.172726     1  \n4  2.761668     1  \n5  1.976412     1  \n6  0.013271     1  \n7  0.209585     0  \n8  0.111428     1  \n9 -0.379357     0  "
          },
          "execution_count": 2,
          "metadata": {},
          "output_type": "execute_result"
        }
      ]
    },
    {
      "metadata": {
        "trusted": false
      },
      "cell_type": "code",
      "source": "diabetes_data.info()",
      "execution_count": 3,
      "outputs": [
        {
          "name": "stdout",
          "output_type": "stream",
          "text": "<class 'pandas.core.frame.DataFrame'>\nRangeIndex: 392 entries, 0 to 391\nData columns (total 9 columns):\npregnant     392 non-null float64\nglucose      392 non-null float64\ndiastolic    392 non-null float64\ntriceps      392 non-null float64\ninsulin      392 non-null float64\nbmi          392 non-null float64\ndiabetes     392 non-null float64\nage          392 non-null float64\ntest         392 non-null int64\ndtypes: float64(8), int64(1)\nmemory usage: 27.6 KB\n"
        }
      ]
    },
    {
      "metadata": {
        "trusted": false
      },
      "cell_type": "code",
      "source": "X = diabetes_data.drop('test', axis=1)\n\nY = diabetes_data['test']",
      "execution_count": 4,
      "outputs": []
    },
    {
      "metadata": {
        "trusted": false
      },
      "cell_type": "code",
      "source": "from sklearn.model_selection import train_test_split\n\nx_train, x_test, y_train, y_test = train_test_split(X, Y, test_size=0.2)",
      "execution_count": 5,
      "outputs": []
    },
    {
      "metadata": {
        "trusted": false
      },
      "cell_type": "code",
      "source": "x_train.shape, y_train.shape",
      "execution_count": 6,
      "outputs": [
        {
          "data": {
            "text/plain": "((313, 8), (313,))"
          },
          "execution_count": 6,
          "metadata": {},
          "output_type": "execute_result"
        }
      ]
    },
    {
      "metadata": {
        "trusted": false
      },
      "cell_type": "code",
      "source": "x_test.shape, y_test.shape",
      "execution_count": 7,
      "outputs": [
        {
          "data": {
            "text/plain": "((79, 8), (79,))"
          },
          "execution_count": 7,
          "metadata": {},
          "output_type": "execute_result"
        }
      ]
    },
    {
      "metadata": {},
      "cell_type": "markdown",
      "source": "### Voting Classifier\nhttps://scikit-learn.org/stable/modules/generated/sklearn.ensemble.VotingClassifier.html"
    },
    {
      "metadata": {
        "trusted": false
      },
      "cell_type": "code",
      "source": "from sklearn.ensemble import VotingClassifier\n\nfrom sklearn.linear_model import LogisticRegression\nfrom sklearn.svm import SVC\nfrom sklearn.naive_bayes import GaussianNB",
      "execution_count": 8,
      "outputs": []
    },
    {
      "metadata": {
        "trusted": false
      },
      "cell_type": "code",
      "source": "log_clf = LogisticRegression(C=1, solver='liblinear')\n\nsvc_clf = SVC(C=1, kernel='linear', gamma='auto')\n\nnaive_clf = GaussianNB()",
      "execution_count": 9,
      "outputs": []
    },
    {
      "metadata": {},
      "cell_type": "markdown",
      "source": "#### Hard voting\nHard voting classifier (voting='hard') aggregate the predictions of each classifier and predict the class that gets the most votes"
    },
    {
      "metadata": {
        "trusted": false
      },
      "cell_type": "code",
      "source": "voting_clf_hard = VotingClassifier(estimators=[('lr', log_clf), \n                                               ('svc', svc_clf), \n                                               ('naive', naive_clf)],\n                                   voting='hard')",
      "execution_count": 10,
      "outputs": []
    },
    {
      "metadata": {
        "trusted": false
      },
      "cell_type": "code",
      "source": "voting_clf_hard.fit(x_train, y_train)",
      "execution_count": 11,
      "outputs": [
        {
          "data": {
            "text/plain": "VotingClassifier(estimators=[('lr',\n                              LogisticRegression(C=1, class_weight=None,\n                                                 dual=False, fit_intercept=True,\n                                                 intercept_scaling=1,\n                                                 l1_ratio=None, max_iter=100,\n                                                 multi_class='warn',\n                                                 n_jobs=None, penalty='l2',\n                                                 random_state=None,\n                                                 solver='liblinear', tol=0.0001,\n                                                 verbose=0, warm_start=False)),\n                             ('svc',\n                              SVC(C=1, cache_size=200, class_weight=None,\n                                  coef0=0.0, decision_function_shape='ovr',\n                                  degree=3, gamma='auto', kernel='linear',\n                                  max_iter=-1, probability=False,\n                                  random_state=None, shrinking=True, tol=0.001,\n                                  verbose=False)),\n                             ('naive',\n                              GaussianNB(priors=None, var_smoothing=1e-09))],\n                 flatten_transform=True, n_jobs=None, voting='hard',\n                 weights=None)"
          },
          "execution_count": 11,
          "metadata": {},
          "output_type": "execute_result"
        }
      ]
    },
    {
      "metadata": {
        "trusted": false
      },
      "cell_type": "code",
      "source": "y_pred = voting_clf_hard.predict(x_test)",
      "execution_count": 12,
      "outputs": []
    },
    {
      "metadata": {
        "trusted": false
      },
      "cell_type": "code",
      "source": "from sklearn.metrics import accuracy_score\n\naccuracy_score(y_test, y_pred)",
      "execution_count": 13,
      "outputs": [
        {
          "data": {
            "text/plain": "0.810126582278481"
          },
          "execution_count": 13,
          "metadata": {},
          "output_type": "execute_result"
        }
      ]
    },
    {
      "metadata": {
        "trusted": false
      },
      "cell_type": "code",
      "source": "voting_clf_hard.classes_",
      "execution_count": 14,
      "outputs": [
        {
          "data": {
            "text/plain": "array([0, 1])"
          },
          "execution_count": 14,
          "metadata": {},
          "output_type": "execute_result"
        }
      ]
    },
    {
      "metadata": {
        "trusted": false
      },
      "cell_type": "code",
      "source": "pred_results = pd.DataFrame({'y_test': y_test,\n                             'y_pred': y_pred})\n\npred_results.head()",
      "execution_count": 15,
      "outputs": [
        {
          "data": {
            "text/html": "<div>\n<style scoped>\n    .dataframe tbody tr th:only-of-type {\n        vertical-align: middle;\n    }\n\n    .dataframe tbody tr th {\n        vertical-align: top;\n    }\n\n    .dataframe thead th {\n        text-align: right;\n    }\n</style>\n<table border=\"1\" class=\"dataframe\">\n  <thead>\n    <tr style=\"text-align: right;\">\n      <th></th>\n      <th>y_pred</th>\n      <th>y_test</th>\n    </tr>\n  </thead>\n  <tbody>\n    <tr>\n      <th>276</th>\n      <td>0</td>\n      <td>1</td>\n    </tr>\n    <tr>\n      <th>234</th>\n      <td>1</td>\n      <td>1</td>\n    </tr>\n    <tr>\n      <th>251</th>\n      <td>0</td>\n      <td>0</td>\n    </tr>\n    <tr>\n      <th>28</th>\n      <td>0</td>\n      <td>0</td>\n    </tr>\n    <tr>\n      <th>257</th>\n      <td>0</td>\n      <td>0</td>\n    </tr>\n  </tbody>\n</table>\n</div>",
            "text/plain": "     y_pred  y_test\n276       0       1\n234       1       1\n251       0       0\n28        0       0\n257       0       0"
          },
          "execution_count": 15,
          "metadata": {},
          "output_type": "execute_result"
        }
      ]
    },
    {
      "metadata": {
        "trusted": false
      },
      "cell_type": "code",
      "source": "for clf_hard in (log_clf, svc_clf, naive_clf, voting_clf_hard):\n    \n    clf_hard.fit(x_train, y_train)\n    y_pred = clf_hard.predict(x_test)\n    \n    print(clf_hard.__class__.__name__, accuracy_score(y_test, y_pred))",
      "execution_count": 19,
      "outputs": [
        {
          "name": "stdout",
          "output_type": "stream",
          "text": "LogisticRegression 0.810126582278481\nSVC 0.8354430379746836\nGaussianNB 0.810126582278481\nVotingClassifier 0.810126582278481\n"
        }
      ]
    },
    {
      "metadata": {},
      "cell_type": "markdown",
      "source": "#### Soft voting\nSoft voting classifier (voting='soft') predict the class with the highest class probability, averaged over all the individual classifiers. \n\nAll of the above classifiers are by default enabled for probability estimates except SVC.    \nSo in SVC we have to pass one more parameter as probability=True"
    },
    {
      "metadata": {
        "trusted": false
      },
      "cell_type": "code",
      "source": "svc_clf_soft = SVC(C=1, kernel='linear', gamma='auto', probability=True)",
      "execution_count": 20,
      "outputs": []
    },
    {
      "metadata": {
        "trusted": false
      },
      "cell_type": "code",
      "source": "voting_clf_soft = VotingClassifier(estimators=[('lr', log_clf), \n                                               ('svc', svc_clf_soft), \n                                               ('naive', naive_clf)],\n                                   voting='soft', \n                                   weights = [0.25,0.5,0.25])",
      "execution_count": 22,
      "outputs": []
    },
    {
      "metadata": {
        "trusted": false
      },
      "cell_type": "code",
      "source": "for clf_soft in (log_clf, svc_clf_soft, naive_clf, voting_clf_soft):\n    \n    clf_soft.fit(x_train, y_train)\n    y_pred = clf_soft.predict(x_test)\n    \n    print(clf_soft.__class__.__name__, accuracy_score(y_test, y_pred))",
      "execution_count": 23,
      "outputs": [
        {
          "name": "stdout",
          "output_type": "stream",
          "text": "LogisticRegression 0.810126582278481\nSVC 0.8354430379746836\nGaussianNB 0.810126582278481\nVotingClassifier 0.7974683544303798\n"
        }
      ]
    },
    {
      "metadata": {
        "trusted": false
      },
      "cell_type": "code",
      "source": "",
      "execution_count": null,
      "outputs": []
    },
    {
      "metadata": {
        "trusted": false
      },
      "cell_type": "code",
      "source": "",
      "execution_count": null,
      "outputs": []
    },
    {
      "metadata": {
        "trusted": false
      },
      "cell_type": "code",
      "source": "",
      "execution_count": null,
      "outputs": []
    },
    {
      "metadata": {
        "trusted": false
      },
      "cell_type": "code",
      "source": "",
      "execution_count": null,
      "outputs": []
    }
  ],
  "metadata": {
    "kernelspec": {
      "name": "python3",
      "display_name": "Python 3",
      "language": "python"
    },
    "language_info": {
      "mimetype": "text/x-python",
      "nbconvert_exporter": "python",
      "name": "python",
      "pygments_lexer": "ipython3",
      "version": "3.5.4",
      "file_extension": ".py",
      "codemirror_mode": {
        "version": 3,
        "name": "ipython"
      }
    }
  },
  "nbformat": 4,
  "nbformat_minor": 2
}